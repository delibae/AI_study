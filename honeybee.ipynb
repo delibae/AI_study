{
  "nbformat": 4,
  "nbformat_minor": 0,
  "metadata": {
    "colab": {
      "provenance": [],
      "toc_visible": true,
      "mount_file_id": "1y4jet0iQqAJKLmyGSzSnhxCb4zzCtsSi",
      "authorship_tag": "ABX9TyMjsVD6LCh4KeVbUWOw3HJS",
      "include_colab_link": true
    },
    "kernelspec": {
      "name": "python3",
      "display_name": "Python 3"
    },
    "language_info": {
      "name": "python"
    },
    "accelerator": "GPU",
    "gpuClass": "standard"
  },
  "cells": [
    {
      "cell_type": "markdown",
      "metadata": {
        "id": "view-in-github",
        "colab_type": "text"
      },
      "source": [
        "<a href=\"https://colab.research.google.com/github/delibae/AI_study/blob/main/honeybee.ipynb\" target=\"_parent\"><img src=\"https://colab.research.google.com/assets/colab-badge.svg\" alt=\"Open In Colab\"/></a>"
      ]
    },
    {
      "cell_type": "markdown",
      "source": [
        "# Import"
      ],
      "metadata": {
        "id": "xIpeybPbQ0rt"
      }
    },
    {
      "cell_type": "code",
      "execution_count": 20,
      "metadata": {
        "id": "FCa8gqBmQCsr"
      },
      "outputs": [],
      "source": [
        "#####################################\n",
        "# Libraries\n",
        "#####################################\n",
        "# Common libs\n",
        "import pandas as pd\n",
        "import numpy as np\n",
        "import sys\n",
        "import os\n",
        "import random\n",
        "from pathlib import Path\n",
        "import math\n",
        "import os\n",
        "import warnings\n",
        "from tqdm import tqdm\n",
        "from glob import glob\n",
        "\n",
        "# Image processing\n",
        "import imageio\n",
        "import skimage\n",
        "import skimage.io\n",
        "import skimage.transform\n",
        "from PIL import Image\n",
        "from sklearn.model_selection import train_test_split\n",
        "\n",
        "# Charts\n",
        "import matplotlib.pyplot as plt\n",
        "import seaborn as sns\n",
        "\n",
        "\n",
        "# ML\n",
        "import torch\n",
        "import torchvision\n",
        "from torch.utils.data import Dataset\n",
        "import torchvision.transforms as transforms\n",
        "from sklearn.model_selection import StratifiedKFold\n",
        "import torch.nn as nn\n",
        "import torch.nn.functional as F\n",
        "import torch.optim as optim\n",
        "\n",
        "#from sklearn.preprocessing import OneHotEncoder\n",
        "\n",
        "\n",
        "\n",
        "\n",
        "# Set random seed to make results reproducable\n",
        "np.random.seed(42)\n",
        "\n",
        "\n",
        "\n",
        "img_folder='/content/drive/MyDrive/data/archive/bee_imgs/bee_imgs/'\n",
        "img_width=100\n",
        "img_height=100\n",
        "img_channels=3"
      ]
    },
    {
      "cell_type": "code",
      "source": [
        "from google.colab import drive\n",
        "drive.mount('/content/drive')"
      ],
      "metadata": {
        "colab": {
          "base_uri": "https://localhost:8080/"
        },
        "id": "q7XHtp52KbVw",
        "outputId": "9cd924a8-0ea0-4575-c0a0-1894d73c2945"
      },
      "execution_count": 3,
      "outputs": [
        {
          "output_type": "stream",
          "name": "stdout",
          "text": [
            "Drive already mounted at /content/drive; to attempt to forcibly remount, call drive.mount(\"/content/drive\", force_remount=True).\n"
          ]
        }
      ]
    },
    {
      "cell_type": "markdown",
      "source": [
        "# Load Data"
      ],
      "metadata": {
        "id": "8fs7T9gqQ2lO"
      }
    },
    {
      "cell_type": "code",
      "source": [
        "bees=pd.read_csv('/content/drive/MyDrive/data/archive/bee_data.csv', \n",
        "                index_col=False,  \n",
        "                parse_dates={'datetime':[1,2]},\n",
        "                dtype={'subspecies':'category', 'health':'category','caste':'category'})\n",
        "\n",
        "def read_img(file):\n",
        "    \"\"\"\n",
        "    Read and resize img, adjust channels. \n",
        "    Caution: This function is not independent, it uses global vars: img_folder, img_channels\n",
        "    @param file: file name without full path\n",
        "    \"\"\"\n",
        "    img = skimage.io.imread(img_folder + file)\n",
        "    img = skimage.transform.resize(img, (img_width, img_height), mode='reflect')\n",
        "    return img[:,:,:img_channels]\n",
        "\n",
        "\n",
        "bees.dropna(inplace=True)\n",
        "\n",
        "\n",
        "img_exists = bees['file'].apply(lambda f: os.path.exists(img_folder + f))\n",
        "print(img_exists)\n",
        "bees = bees[img_exists]\n",
        "\n",
        "bees.head()\n",
        "\n",
        "print(bees)"
      ],
      "metadata": {
        "id": "vOHfSqGKQ589",
        "colab": {
          "base_uri": "https://localhost:8080/"
        },
        "outputId": "0a360cac-a341-4c02-80e9-400198b8bdaa"
      },
      "execution_count": 4,
      "outputs": [
        {
          "output_type": "stream",
          "name": "stdout",
          "text": [
            "0       True\n",
            "1       True\n",
            "2       True\n",
            "3       True\n",
            "4       True\n",
            "        ... \n",
            "5167    True\n",
            "5168    True\n",
            "5169    True\n",
            "5170    True\n",
            "5171    True\n",
            "Name: file, Length: 5172, dtype: bool\n",
            "                datetime         file           location  zip code subspecies  \\\n",
            "0    2018-08-28 16:07:00  041_066.png     Alvin, TX, USA     77511         -1   \n",
            "1    2018-08-28 16:07:00  041_072.png     Alvin, TX, USA     77511         -1   \n",
            "2    2018-08-28 16:07:00  041_073.png     Alvin, TX, USA     77511         -1   \n",
            "3    2018-08-28 16:07:00  041_067.png     Alvin, TX, USA     77511         -1   \n",
            "4    2018-08-28 16:07:00  041_059.png     Alvin, TX, USA     77511         -1   \n",
            "...                  ...          ...                ...       ...        ...   \n",
            "5167 2018-08-20 10:03:00  027_011.png  San Jose, CA, USA     95124         -1   \n",
            "5168 2018-08-20 10:03:00  027_007.png  San Jose, CA, USA     95124         -1   \n",
            "5169 2018-08-20 10:03:00  027_013.png  San Jose, CA, USA     95124         -1   \n",
            "5170 2018-08-20 10:03:00  027_012.png  San Jose, CA, USA     95124         -1   \n",
            "5171 2018-08-20 10:03:00  027_014.png  San Jose, CA, USA     95124         -1   \n",
            "\n",
            "                 health  pollen_carrying   caste  \n",
            "0     hive being robbed            False  worker  \n",
            "1     hive being robbed            False  worker  \n",
            "2     hive being robbed            False  worker  \n",
            "3     hive being robbed            False  worker  \n",
            "4     hive being robbed            False  worker  \n",
            "...                 ...              ...     ...  \n",
            "5167            healthy             True  worker  \n",
            "5168            healthy             True  worker  \n",
            "5169            healthy            False  worker  \n",
            "5170            healthy            False  worker  \n",
            "5171            healthy            False  worker  \n",
            "\n",
            "[5172 rows x 8 columns]\n"
          ]
        }
      ]
    },
    {
      "cell_type": "markdown",
      "source": [
        "# Dataset Analysis"
      ],
      "metadata": {
        "id": "xMEfF9Df03Xb"
      }
    },
    {
      "cell_type": "code",
      "source": [
        "f, ax = plt.subplots(nrows=2, ncols=2, figsize=(12,8))\n",
        "\n",
        "bees.subspecies.value_counts().plot(kind='bar',ax=ax[0, 0])\n",
        "ax[0,0].set_ylabel('Count')\n",
        "ax[0,0].set_title('Subspecies')\n",
        "\n",
        "bees.location.value_counts().plot(kind='bar', ax=ax[0, 1])\n",
        "ax[0,1].set_title('Location')\n",
        "ax[0,1].set_ylabel('Count')\n",
        "\n",
        "bees.caste.value_counts().plot(kind='bar', ax=ax[1, 0])\n",
        "ax[1,0].set_title('Caste')\n",
        "ax[1,0].set_ylabel('Count')\n",
        "\n",
        "bees.health.value_counts().plot(kind='bar', ax=ax[1,1])\n",
        "ax[1,1].set_title('Health')\n",
        "ax[1,1].set_ylabel('Count')\n",
        "\n",
        "f.subplots_adjust(hspace=0.7)\n",
        "f.tight_layout()\n",
        "plt.show()"
      ],
      "metadata": {
        "colab": {
          "base_uri": "https://localhost:8080/",
          "height": 585
        },
        "id": "9kjl7r9FxmDc",
        "outputId": "384721b6-3d17-41df-9ef5-6b3f33910015"
      },
      "execution_count": 5,
      "outputs": [
        {
          "output_type": "display_data",
          "data": {
            "text/plain": [
              "<Figure size 864x576 with 4 Axes>"
            ],
            "image/png": "[encoded data removed]"
          },
          "metadata": {
            "needs_background": "light"
          }
        }
      ]
    },
    {
      "cell_type": "markdown",
      "source": [
        "# Trim Data"
      ],
      "metadata": {
        "id": "C1N-usxIoMjr"
      }
    },
    {
      "cell_type": "code",
      "source": [
        "print(bees)"
      ],
      "metadata": {
        "id": "-NXWjWCB6v9L",
        "colab": {
          "base_uri": "https://localhost:8080/"
        },
        "outputId": "6ee3d3b0-5305-4860-fc07-228f1589951e"
      },
      "execution_count": 7,
      "outputs": [
        {
          "output_type": "stream",
          "name": "stdout",
          "text": [
            "                datetime         file           location  zip code subspecies  \\\n",
            "0    2018-08-28 16:07:00  041_066.png     Alvin, TX, USA     77511         -1   \n",
            "1    2018-08-28 16:07:00  041_072.png     Alvin, TX, USA     77511         -1   \n",
            "2    2018-08-28 16:07:00  041_073.png     Alvin, TX, USA     77511         -1   \n",
            "3    2018-08-28 16:07:00  041_067.png     Alvin, TX, USA     77511         -1   \n",
            "4    2018-08-28 16:07:00  041_059.png     Alvin, TX, USA     77511         -1   \n",
            "...                  ...          ...                ...       ...        ...   \n",
            "5167 2018-08-20 10:03:00  027_011.png  San Jose, CA, USA     95124         -1   \n",
            "5168 2018-08-20 10:03:00  027_007.png  San Jose, CA, USA     95124         -1   \n",
            "5169 2018-08-20 10:03:00  027_013.png  San Jose, CA, USA     95124         -1   \n",
            "5170 2018-08-20 10:03:00  027_012.png  San Jose, CA, USA     95124         -1   \n",
            "5171 2018-08-20 10:03:00  027_014.png  San Jose, CA, USA     95124         -1   \n",
            "\n",
            "                 health  pollen_carrying   caste  \n",
            "0     hive being robbed            False  worker  \n",
            "1     hive being robbed            False  worker  \n",
            "2     hive being robbed            False  worker  \n",
            "3     hive being robbed            False  worker  \n",
            "4     hive being robbed            False  worker  \n",
            "...                 ...              ...     ...  \n",
            "5167            healthy             True  worker  \n",
            "5168            healthy             True  worker  \n",
            "5169            healthy            False  worker  \n",
            "5170            healthy            False  worker  \n",
            "5171            healthy            False  worker  \n",
            "\n",
            "[5172 rows x 8 columns]\n"
          ]
        }
      ]
    },
    {
      "cell_type": "code",
      "source": [
        "bees = bees.drop(columns=['datetime','location','zip code','subspecies','pollen_carrying','caste'])\n"
      ],
      "metadata": {
        "id": "1NRN9wMrAAjj"
      },
      "execution_count": 8,
      "outputs": []
    },
    {
      "cell_type": "code",
      "source": [
        "bees.head()"
      ],
      "metadata": {
        "colab": {
          "base_uri": "https://localhost:8080/",
          "height": 206
        },
        "id": "vh4us0UqAZ_i",
        "outputId": "880b04e9-cbe6-4d02-8b46-0694949b77ee"
      },
      "execution_count": 9,
      "outputs": [
        {
          "output_type": "execute_result",
          "data": {
            "text/plain": [
              "          file             health\n",
              "0  041_066.png  hive being robbed\n",
              "1  041_072.png  hive being robbed\n",
              "2  041_073.png  hive being robbed\n",
              "3  041_067.png  hive being robbed\n",
              "4  041_059.png  hive being robbed"
            ],
            "text/html": [
              "\n",
              "  <div id=\"df-ad6bc450-6370-4c33-b000-038ed32cc3ee\">\n",
              "    <div class=\"colab-df-container\">\n",
              "      <div>\n",
              "<style scoped>\n",
              "    .dataframe tbody tr th:only-of-type {\n",
              "        vertical-align: middle;\n",
              "    }\n",
              "\n",
              "    .dataframe tbody tr th {\n",
              "        vertical-align: top;\n",
              "    }\n",
              "\n",
              "    .dataframe thead th {\n",
              "        text-align: right;\n",
              "    }\n",
              "</style>\n",
              "<table border=\"1\" class=\"dataframe\">\n",
              "  <thead>\n",
              "    <tr style=\"text-align: right;\">\n",
              "      <th></th>\n",
              "      <th>file</th>\n",
              "      <th>health</th>\n",
              "    </tr>\n",
              "  </thead>\n",
              "  <tbody>\n",
              "    <tr>\n",
              "      <th>0</th>\n",
              "      <td>041_066.png</td>\n",
              "      <td>hive being robbed</td>\n",
              "    </tr>\n",
              "    <tr>\n",
              "      <th>1</th>\n",
              "      <td>041_072.png</td>\n",
              "      <td>hive being robbed</td>\n",
              "    </tr>\n",
              "    <tr>\n",
              "      <th>2</th>\n",
              "      <td>041_073.png</td>\n",
              "      <td>hive being robbed</td>\n",
              "    </tr>\n",
              "    <tr>\n",
              "      <th>3</th>\n",
              "      <td>041_067.png</td>\n",
              "      <td>hive being robbed</td>\n",
              "    </tr>\n",
              "    <tr>\n",
              "      <th>4</th>\n",
              "      <td>041_059.png</td>\n",
              "      <td>hive being robbed</td>\n",
              "    </tr>\n",
              "  </tbody>\n",
              "</table>\n",
              "</div>\n",
              "      <button class=\"colab-df-convert\" onclick=\"convertToInteractive('df-ad6bc450-6370-4c33-b000-038ed32cc3ee')\"\n",
              "              title=\"Convert this dataframe to an interactive table.\"\n",
              "              style=\"display:none;\">\n",
              "        \n",
              "  <svg xmlns=\"http://www.w3.org/2000/svg\" height=\"24px\"viewBox=\"0 0 24 24\"\n",
              "       width=\"24px\">\n",
              "    <path d=\"M0 0h24v24H0V0z\" fill=\"none\"/>\n",
              "    <path d=\"M18.56 5.44l.94 2.06.94-2.06 2.06-.94-2.06-.94-.94-2.06-.94 2.06-2.06.94zm-11 1L8.5 8.5l.94-2.06 2.06-.94-2.06-.94L8.5 2.5l-.94 2.06-2.06.94zm10 10l.94 2.06.94-2.06 2.06-.94-2.06-.94-.94-2.06-.94 2.06-2.06.94z\"/><path d=\"M17.41 7.96l-1.37-1.37c-.4-.4-.92-.59-1.43-.59-.52 0-1.04.2-1.43.59L10.3 9.45l-7.72 7.72c-.78.78-.78 2.05 0 2.83L4 21.41c.39.39.9.59 1.41.59.51 0 1.02-.2 1.41-.59l7.78-7.78 2.81-2.81c.8-.78.8-2.07 0-2.86zM5.41 20L4 18.59l7.72-7.72 1.47 1.35L5.41 20z\"/>\n",
              "  </svg>\n",
              "      </button>\n",
              "      \n",
              "  <style>\n",
              "    .colab-df-container {\n",
              "      display:flex;\n",
              "      flex-wrap:wrap;\n",
              "      gap: 12px;\n",
              "    }\n",
              "\n",
              "    .colab-df-convert {\n",
              "      background-color: #E8F0FE;\n",
              "      border: none;\n",
              "      border-radius: 50%;\n",
              "      cursor: pointer;\n",
              "      display: none;\n",
              "      fill: #1967D2;\n",
              "      height: 32px;\n",
              "      padding: 0 0 0 0;\n",
              "      width: 32px;\n",
              "    }\n",
              "\n",
              "    .colab-df-convert:hover {\n",
              "      background-color: #E2EBFA;\n",
              "      box-shadow: 0px 1px 2px rgba(60, 64, 67, 0.3), 0px 1px 3px 1px rgba(60, 64, 67, 0.15);\n",
              "      fill: #174EA6;\n",
              "    }\n",
              "\n",
              "    [theme=dark] .colab-df-convert {\n",
              "      background-color: #3B4455;\n",
              "      fill: #D2E3FC;\n",
              "    }\n",
              "\n",
              "    [theme=dark] .colab-df-convert:hover {\n",
              "      background-color: #434B5C;\n",
              "      box-shadow: 0px 1px 3px 1px rgba(0, 0, 0, 0.15);\n",
              "      filter: drop-shadow(0px 1px 2px rgba(0, 0, 0, 0.3));\n",
              "      fill: #FFFFFF;\n",
              "    }\n",
              "  </style>\n",
              "\n",
              "      <script>\n",
              "        const buttonEl =\n",
              "          document.querySelector('#df-ad6bc450-6370-4c33-b000-038ed32cc3ee button.colab-df-convert');\n",
              "        buttonEl.style.display =\n",
              "          google.colab.kernel.accessAllowed ? 'block' : 'none';\n",
              "\n",
              "        async function convertToInteractive(key) {\n",
              "          const element = document.querySelector('#df-ad6bc450-6370-4c33-b000-038ed32cc3ee');\n",
              "          const dataTable =\n",
              "            await google.colab.kernel.invokeFunction('convertToInteractive',\n",
              "                                                     [key], {});\n",
              "          if (!dataTable) return;\n",
              "\n",
              "          const docLinkHtml = 'Like what you see? Visit the ' +\n",
              "            '<a target=\"_blank\" href=https://colab.research.google.com/notebooks/data_table.ipynb>data table notebook</a>'\n",
              "            + ' to learn more about interactive tables.';\n",
              "          element.innerHTML = '';\n",
              "          dataTable['output_type'] = 'display_data';\n",
              "          await google.colab.output.renderOutput(dataTable, element);\n",
              "          const docLink = document.createElement('div');\n",
              "          docLink.innerHTML = docLinkHtml;\n",
              "          element.appendChild(docLink);\n",
              "        }\n",
              "      </script>\n",
              "    </div>\n",
              "  </div>\n",
              "  "
            ]
          },
          "metadata": {},
          "execution_count": 9
        }
      ]
    },
    {
      "cell_type": "code",
      "source": [
        "label_list = bees['health'].unique().to_list()"
      ],
      "metadata": {
        "id": "aSaNneIFAclZ"
      },
      "execution_count": 10,
      "outputs": []
    },
    {
      "cell_type": "code",
      "source": [
        "print(label_list)"
      ],
      "metadata": {
        "colab": {
          "base_uri": "https://localhost:8080/"
        },
        "id": "e5Zzw09cAnVV",
        "outputId": "1bdbec60-8e9d-4fb9-c9a6-32952eedee6f"
      },
      "execution_count": 11,
      "outputs": [
        {
          "output_type": "stream",
          "name": "stdout",
          "text": [
            "['hive being robbed', 'healthy', 'few varrao, hive beetles', 'ant problems', 'missing queen', 'Varroa, Small Hive Beetles']\n"
          ]
        }
      ]
    },
    {
      "cell_type": "code",
      "source": [
        "def add(valid):\n",
        "  index = label_list.index(valid)\n",
        "  return index"
      ],
      "metadata": {
        "id": "I6is-lTnBQSa"
      },
      "execution_count": 12,
      "outputs": []
    },
    {
      "cell_type": "code",
      "source": [
        "bees['label'] = bees.apply(lambda row : add(row['health']), axis = 1)"
      ],
      "metadata": {
        "id": "K71sIArlAsPm"
      },
      "execution_count": 13,
      "outputs": []
    },
    {
      "cell_type": "code",
      "source": [
        "bees = bees.drop(columns = 'health')"
      ],
      "metadata": {
        "id": "mS8g9rLJB7-4"
      },
      "execution_count": 14,
      "outputs": []
    },
    {
      "cell_type": "code",
      "source": [
        "print(bees)"
      ],
      "metadata": {
        "colab": {
          "base_uri": "https://localhost:8080/"
        },
        "id": "T6aqYcARCLwR",
        "outputId": "b1d25dc2-55e3-4f2c-d4cb-de28eb17a62a"
      },
      "execution_count": 15,
      "outputs": [
        {
          "output_type": "stream",
          "name": "stdout",
          "text": [
            "             file  label\n",
            "0     041_066.png      0\n",
            "1     041_072.png      0\n",
            "2     041_073.png      0\n",
            "3     041_067.png      0\n",
            "4     041_059.png      0\n",
            "...           ...    ...\n",
            "5167  027_011.png      1\n",
            "5168  027_007.png      1\n",
            "5169  027_013.png      1\n",
            "5170  027_012.png      1\n",
            "5171  027_014.png      1\n",
            "\n",
            "[5172 rows x 2 columns]\n"
          ]
        }
      ]
    },
    {
      "cell_type": "code",
      "source": [
        "bees['file_name'] = bees.apply(lambda row : (img_folder + row['file']), axis = 1)"
      ],
      "metadata": {
        "id": "1VTfMiKACRLG"
      },
      "execution_count": 16,
      "outputs": []
    },
    {
      "cell_type": "code",
      "source": [
        "print(bees.iloc[0]['label'])\n",
        "print(bees)"
      ],
      "metadata": {
        "colab": {
          "base_uri": "https://localhost:8080/"
        },
        "id": "MByJZUYXCiPz",
        "outputId": "b351ae33-ed15-4fc4-d484-cf03505a6470"
      },
      "execution_count": 17,
      "outputs": [
        {
          "output_type": "stream",
          "name": "stdout",
          "text": [
            "0\n",
            "             file  label                                          file_name\n",
            "0     041_066.png      0  /content/drive/MyDrive/data/archive/bee_imgs/b...\n",
            "1     041_072.png      0  /content/drive/MyDrive/data/archive/bee_imgs/b...\n",
            "2     041_073.png      0  /content/drive/MyDrive/data/archive/bee_imgs/b...\n",
            "3     041_067.png      0  /content/drive/MyDrive/data/archive/bee_imgs/b...\n",
            "4     041_059.png      0  /content/drive/MyDrive/data/archive/bee_imgs/b...\n",
            "...           ...    ...                                                ...\n",
            "5167  027_011.png      1  /content/drive/MyDrive/data/archive/bee_imgs/b...\n",
            "5168  027_007.png      1  /content/drive/MyDrive/data/archive/bee_imgs/b...\n",
            "5169  027_013.png      1  /content/drive/MyDrive/data/archive/bee_imgs/b...\n",
            "5170  027_012.png      1  /content/drive/MyDrive/data/archive/bee_imgs/b...\n",
            "5171  027_014.png      1  /content/drive/MyDrive/data/archive/bee_imgs/b...\n",
            "\n",
            "[5172 rows x 3 columns]\n"
          ]
        }
      ]
    },
    {
      "cell_type": "code",
      "source": [
        "bees['label'].value_counts()"
      ],
      "metadata": {
        "colab": {
          "base_uri": "https://localhost:8080/"
        },
        "id": "G85vVjn9DDY4",
        "outputId": "424728b2-d246-4230-a805-5acbf81ae76d"
      },
      "execution_count": 18,
      "outputs": [
        {
          "output_type": "execute_result",
          "data": {
            "text/plain": [
              "1    3384\n",
              "2     579\n",
              "5     472\n",
              "3     457\n",
              "0     251\n",
              "4      29\n",
              "Name: label, dtype: int64"
            ]
          },
          "metadata": {},
          "execution_count": 18
        }
      ]
    },
    {
      "cell_type": "code",
      "source": [
        "train, valid = train_test_split(bees, train_size=.8, shuffle=True, random_state=123, stratify=bees['label'])"
      ],
      "metadata": {
        "id": "JKcBlT1pGZVE"
      },
      "execution_count": 85,
      "outputs": []
    },
    {
      "cell_type": "code",
      "source": [
        "train = train.drop(columns = ['file'])\n",
        "\n",
        "valid = valid.drop(columns = ['file'])\n"
      ],
      "metadata": {
        "id": "MaK8YpptG5FK"
      },
      "execution_count": 86,
      "outputs": []
    },
    {
      "cell_type": "code",
      "source": [
        "train['label'].value_counts()\n"
      ],
      "metadata": {
        "colab": {
          "base_uri": "https://localhost:8080/"
        },
        "id": "rVfhEoLkH2KC",
        "outputId": "ce8de53c-db10-44b1-83b8-a3f9724791a1"
      },
      "execution_count": 87,
      "outputs": [
        {
          "output_type": "execute_result",
          "data": {
            "text/plain": [
              "1    2707\n",
              "2     463\n",
              "5     377\n",
              "3     366\n",
              "0     201\n",
              "4      23\n",
              "Name: label, dtype: int64"
            ]
          },
          "metadata": {},
          "execution_count": 87
        }
      ]
    },
    {
      "cell_type": "code",
      "source": [
        "valid['label'].value_counts()"
      ],
      "metadata": {
        "colab": {
          "base_uri": "https://localhost:8080/"
        },
        "id": "4-Pc-qN-fFMk",
        "outputId": "a32f52ce-4252-4801-fde5-212002022965"
      },
      "execution_count": 88,
      "outputs": [
        {
          "output_type": "execute_result",
          "data": {
            "text/plain": [
              "1    677\n",
              "2    116\n",
              "5     95\n",
              "3     91\n",
              "0     50\n",
              "4      6\n",
              "Name: label, dtype: int64"
            ]
          },
          "metadata": {},
          "execution_count": 88
        }
      ]
    },
    {
      "cell_type": "code",
      "source": [
        "print(train)"
      ],
      "metadata": {
        "colab": {
          "base_uri": "https://localhost:8080/"
        },
        "id": "BF8IRBIRrpzl",
        "outputId": "2caaa22a-2c32-483b-bd22-5a437a3268e9"
      },
      "execution_count": 89,
      "outputs": [
        {
          "output_type": "stream",
          "name": "stdout",
          "text": [
            "      label                                          file_name\n",
            "3295      1  /content/drive/MyDrive/data/archive/bee_imgs/b...\n",
            "1096      3  /content/drive/MyDrive/data/archive/bee_imgs/b...\n",
            "2235      1  /content/drive/MyDrive/data/archive/bee_imgs/b...\n",
            "4380      5  /content/drive/MyDrive/data/archive/bee_imgs/b...\n",
            "4733      1  /content/drive/MyDrive/data/archive/bee_imgs/b...\n",
            "...     ...                                                ...\n",
            "4597      5  /content/drive/MyDrive/data/archive/bee_imgs/b...\n",
            "749       3  /content/drive/MyDrive/data/archive/bee_imgs/b...\n",
            "750       3  /content/drive/MyDrive/data/archive/bee_imgs/b...\n",
            "1528      2  /content/drive/MyDrive/data/archive/bee_imgs/b...\n",
            "938       3  /content/drive/MyDrive/data/archive/bee_imgs/b...\n",
            "\n",
            "[4137 rows x 2 columns]\n"
          ]
        }
      ]
    },
    {
      "cell_type": "code",
      "source": [
        "print(valid)"
      ],
      "metadata": {
        "colab": {
          "base_uri": "https://localhost:8080/"
        },
        "id": "Q6TK86e2rrO_",
        "outputId": "a6714270-6050-4a6b-a08e-fa34fce2f09d"
      },
      "execution_count": 90,
      "outputs": [
        {
          "output_type": "stream",
          "name": "stdout",
          "text": [
            "      label                                          file_name\n",
            "2260      1  /content/drive/MyDrive/data/archive/bee_imgs/b...\n",
            "2255      1  /content/drive/MyDrive/data/archive/bee_imgs/b...\n",
            "1101      3  /content/drive/MyDrive/data/archive/bee_imgs/b...\n",
            "1968      1  /content/drive/MyDrive/data/archive/bee_imgs/b...\n",
            "2824      1  /content/drive/MyDrive/data/archive/bee_imgs/b...\n",
            "...     ...                                                ...\n",
            "285       1  /content/drive/MyDrive/data/archive/bee_imgs/b...\n",
            "3862      1  /content/drive/MyDrive/data/archive/bee_imgs/b...\n",
            "17        0  /content/drive/MyDrive/data/archive/bee_imgs/b...\n",
            "561       1  /content/drive/MyDrive/data/archive/bee_imgs/b...\n",
            "3954      1  /content/drive/MyDrive/data/archive/bee_imgs/b...\n",
            "\n",
            "[1035 rows x 2 columns]\n"
          ]
        }
      ]
    },
    {
      "cell_type": "markdown",
      "source": [
        "# Make DataLoader"
      ],
      "metadata": {
        "id": "veI8VFYboP6O"
      }
    },
    {
      "cell_type": "markdown",
      "source": [
        "## get image function"
      ],
      "metadata": {
        "id": "y6-yvk3FoRzd"
      }
    },
    {
      "cell_type": "code",
      "source": [
        "import cv2\n",
        "\n",
        "def get_img_list(series) :\n",
        "\n",
        "    \n",
        "    reshaped_image_list = []\n",
        "\n",
        "    for file_name in series :\n",
        "        image_path = file_name\n",
        "        # image = Image.open(image_path)\n",
        "        # image = image.convert('RGB')\n",
        "        # image = image.resize((100, 100))\n",
        "        # image_array = np.array(image)\n",
        "\n",
        "        image = cv2.imread(image_path, cv2.IMREAD_COLOR)\n",
        "\n",
        "        image = cv2.resize(image, dsize=(100, 100), interpolation=cv2.INTER_AREA)\n",
        "\n",
        "        reshaped_image = image.reshape(100,100,3) #reshape\n",
        "        reshaped_image_list.append(reshaped_image)\n",
        "        \n",
        "    return reshaped_image_list"
      ],
      "metadata": {
        "id": "IcoEE3p5Phcm"
      },
      "execution_count": 56,
      "outputs": []
    },
    {
      "cell_type": "markdown",
      "source": [
        "## normalize image"
      ],
      "metadata": {
        "id": "RQy2hzbdoUz8"
      }
    },
    {
      "cell_type": "code",
      "source": [
        "def get_transform():\n",
        "\n",
        "    t = list()\n",
        "    t.append(transforms.ToTensor())\n",
        "    \n",
        "    # if mode == 'train':\n",
        "    #     t.append(transforms.RandomAffine(degrees=10, translate=(0.1,0.1)))\n",
        "\n",
        "    t.append(transforms.Normalize(mean=(.5),std=(.5)))\n",
        "    \n",
        "    return transforms.Compose(t)"
      ],
      "metadata": {
        "id": "hwDrsBhOE0QT"
      },
      "execution_count": 57,
      "outputs": []
    },
    {
      "cell_type": "code",
      "source": [
        "sample_image = Image.open(bees.iloc[0]['file_name'])\n",
        "sample_label = bees['label'][0]\n",
        "plt.title('label: ' + str(sample_label))\n",
        "plt.imshow(sample_image, cmap='gray')"
      ],
      "metadata": {
        "colab": {
          "base_uri": "https://localhost:8080/",
          "height": 300
        },
        "id": "JX4fCQx_FM2P",
        "outputId": "b2ca3d23-4d26-4341-a8aa-3cf76acb5e54"
      },
      "execution_count": 58,
      "outputs": [
        {
          "output_type": "execute_result",
          "data": {
            "text/plain": [
              "<matplotlib.image.AxesImage at 0x7fbe6b026fa0>"
            ]
          },
          "metadata": {},
          "execution_count": 58
        },
        {
          "output_type": "display_data",
          "data": {
            "text/plain": [
              "<Figure size 432x288 with 1 Axes>"
            ],
            "image/png": "[encoded data removed]"
          },
          "metadata": {
            "needs_background": "light"
          }
        }
      ]
    },
    {
      "cell_type": "markdown",
      "source": [
        "## define dataset"
      ],
      "metadata": {
        "id": "zGc8vqcgoX9A"
      }
    },
    {
      "cell_type": "code",
      "source": [
        "class CustomDataset(Dataset):\n",
        "    def __init__(self, img_list, label=None):\n",
        "        self.transform = get_transform()\n",
        "        self.img_list = img_list\n",
        "        self.label = label # 정답값(train)\n",
        "        self.transformed_img_list = list(map(self.transform, self.img_list))\n",
        "\n",
        "    def __len__(self):\n",
        "        return len(self.img_list)\n",
        "    \n",
        "    def __getitem__(self, i):\n",
        "        \n",
        "        x_data = self.transformed_img_list[i]\n",
        "\n",
        "        return x_data, torch.tensor(self.label[i],dtype = torch.long)"
      ],
      "metadata": {
        "id": "geSHihN8Eqkb"
      },
      "execution_count": 59,
      "outputs": []
    },
    {
      "cell_type": "markdown",
      "source": [
        "## define dataloader"
      ],
      "metadata": {
        "id": "1EXT0HpFoan2"
      }
    },
    {
      "cell_type": "code",
      "source": [
        "def get_dataloader(x, y):\n",
        "    img_list = get_img_list(x)\n",
        "    dataset = CustomDataset(img_list=img_list, label=y)\n",
        "    dataloader = torch.utils.data.DataLoader(dataset=dataset, batch_size=batch_size)\n",
        "    total_batch = math.ceil(len(dataset)/batch_size)\n",
        "\n",
        "    return dataloader, total_batch"
      ],
      "metadata": {
        "id": "kxP6awJxGVeh"
      },
      "execution_count": 60,
      "outputs": []
    },
    {
      "cell_type": "markdown",
      "source": [
        "## define batchsize"
      ],
      "metadata": {
        "id": "cIo_1dVEodsi"
      }
    },
    {
      "cell_type": "code",
      "source": [
        "batch_size = 64"
      ],
      "metadata": {
        "id": "o4TdN5jVIddH"
      },
      "execution_count": 61,
      "outputs": []
    },
    {
      "cell_type": "markdown",
      "source": [],
      "metadata": {
        "id": "_d4Mdqlooe9P"
      }
    },
    {
      "cell_type": "code",
      "source": [
        "train = train.reset_index(drop = True)\n",
        "valid = valid.reset_index(drop = True)"
      ],
      "metadata": {
        "id": "GOc3pht1dpm-"
      },
      "execution_count": 91,
      "outputs": []
    },
    {
      "cell_type": "code",
      "source": [
        "print(train)\n",
        "print(valid)"
      ],
      "metadata": {
        "colab": {
          "base_uri": "https://localhost:8080/"
        },
        "id": "fr-QRLBEfOGa",
        "outputId": "0c8897eb-e2f9-480e-fcbb-192b5c1ec108"
      },
      "execution_count": 92,
      "outputs": [
        {
          "output_type": "stream",
          "name": "stdout",
          "text": [
            "      label                                          file_name\n",
            "0         1  /content/drive/MyDrive/data/archive/bee_imgs/b...\n",
            "1         3  /content/drive/MyDrive/data/archive/bee_imgs/b...\n",
            "2         1  /content/drive/MyDrive/data/archive/bee_imgs/b...\n",
            "3         5  /content/drive/MyDrive/data/archive/bee_imgs/b...\n",
            "4         1  /content/drive/MyDrive/data/archive/bee_imgs/b...\n",
            "...     ...                                                ...\n",
            "4132      5  /content/drive/MyDrive/data/archive/bee_imgs/b...\n",
            "4133      3  /content/drive/MyDrive/data/archive/bee_imgs/b...\n",
            "4134      3  /content/drive/MyDrive/data/archive/bee_imgs/b...\n",
            "4135      2  /content/drive/MyDrive/data/archive/bee_imgs/b...\n",
            "4136      3  /content/drive/MyDrive/data/archive/bee_imgs/b...\n",
            "\n",
            "[4137 rows x 2 columns]\n",
            "      label                                          file_name\n",
            "0         1  /content/drive/MyDrive/data/archive/bee_imgs/b...\n",
            "1         1  /content/drive/MyDrive/data/archive/bee_imgs/b...\n",
            "2         3  /content/drive/MyDrive/data/archive/bee_imgs/b...\n",
            "3         1  /content/drive/MyDrive/data/archive/bee_imgs/b...\n",
            "4         1  /content/drive/MyDrive/data/archive/bee_imgs/b...\n",
            "...     ...                                                ...\n",
            "1030      1  /content/drive/MyDrive/data/archive/bee_imgs/b...\n",
            "1031      1  /content/drive/MyDrive/data/archive/bee_imgs/b...\n",
            "1032      0  /content/drive/MyDrive/data/archive/bee_imgs/b...\n",
            "1033      1  /content/drive/MyDrive/data/archive/bee_imgs/b...\n",
            "1034      1  /content/drive/MyDrive/data/archive/bee_imgs/b...\n",
            "\n",
            "[1035 rows x 2 columns]\n"
          ]
        }
      ]
    },
    {
      "cell_type": "markdown",
      "source": [
        "## create dataloader"
      ],
      "metadata": {
        "id": "KVnMxSgBogVU"
      }
    },
    {
      "cell_type": "code",
      "source": [
        "x_train = train['file_name'][:1000]\n",
        "x_valid = valid['file_name'][:200]\n",
        "y_train = train['label'][:1000]\n",
        "y_valid = valid['label'][:200]\n",
        "\n",
        "train_dataloader, train_total_batch = get_dataloader(x_train, y_train)\n",
        "valid_dataloader, valid_total_batch = get_dataloader(x_valid, y_valid)\n",
        "\n",
        "# test_dataloader, test_total_batch = get_dataloader(x_valid, y_valid, mode='train')\n"
      ],
      "metadata": {
        "id": "qvEXqAaBIjJf"
      },
      "execution_count": 93,
      "outputs": []
    },
    {
      "cell_type": "markdown",
      "source": [
        "# Model"
      ],
      "metadata": {
        "id": "Q1utseK6fTi_"
      }
    },
    {
      "cell_type": "markdown",
      "source": [
        "## define model"
      ],
      "metadata": {
        "id": "SQqJ7lhUol-K"
      }
    },
    {
      "cell_type": "code",
      "source": [
        "class CNN(nn.Module):\n",
        "    def __init__(self):\n",
        "        super(CNN, self).__init__()\n",
        "        self.conv1 = nn.Conv2d(in_channels=3, out_channels=20, kernel_size=5, stride=1)\n",
        "        self.conv2 = nn.Conv2d(in_channels=20, out_channels=50, kernel_size=5, stride=1)\n",
        "        self.fc1 = nn.Linear(22 * 22 * 50, 500)\n",
        "        self.fc2 = nn.Linear(500, 6)\n",
        "\n",
        "    def forward(self, x):\n",
        "        x = F.relu(self.conv1(x))\n",
        "        x = F.max_pool2d(x, kernel_size=2, stride=2)\n",
        "        x = F.relu(self.conv2(x))\n",
        "        x = F.max_pool2d(x, kernel_size=2, stride=2)\n",
        "        x = x.view(-1, 50*22*22)\n",
        "        x = F.relu(self.fc1(x))\n",
        "        x = self.fc2(x)\n",
        "        return x"
      ],
      "metadata": {
        "id": "iCp0Z4feeHRp"
      },
      "execution_count": 72,
      "outputs": []
    },
    {
      "cell_type": "markdown",
      "source": [
        "## cuda avaliable"
      ],
      "metadata": {
        "id": "WQaDXfLzTmHI"
      }
    },
    {
      "cell_type": "code",
      "source": [
        "device = torch.device(\"cuda:0\" if torch.cuda.is_available() else \"cpu\")\n",
        "print(device)\n"
      ],
      "metadata": {
        "colab": {
          "base_uri": "https://localhost:8080/"
        },
        "id": "Apmm9wK7TnoL",
        "outputId": "a1768cfd-fec3-4e3a-e615-046aa8e187c7"
      },
      "execution_count": 74,
      "outputs": [
        {
          "output_type": "stream",
          "name": "stdout",
          "text": [
            "cuda:0\n"
          ]
        }
      ]
    },
    {
      "cell_type": "markdown",
      "source": [
        "## create model"
      ],
      "metadata": {
        "id": "_G8l_UQxoofi"
      }
    },
    {
      "cell_type": "code",
      "source": [
        "cnn = CNN().to(device)\n",
        "# cnn = CNN()\n",
        "cnn.train()\n",
        "criterion = torch.nn.CrossEntropyLoss()\n",
        "optimizer = optim.SGD(cnn.parameters(), lr=0.01)"
      ],
      "metadata": {
        "id": "kMrhYo1Jg1hM"
      },
      "execution_count": 106,
      "outputs": []
    },
    {
      "cell_type": "code",
      "source": [
        "output = cnn(torch.randn(10, 3, 100, 100).to(device))\n",
        "# output = cnn(torch.randn(10, 3, 100, 100))\n",
        "print(output)"
      ],
      "metadata": {
        "colab": {
          "base_uri": "https://localhost:8080/"
        },
        "id": "Z0CcVJ9rg8V9",
        "outputId": "38c4b5a2-da9c-4b75-e291-1b02ddd27ed7"
      },
      "execution_count": 95,
      "outputs": [
        {
          "output_type": "stream",
          "name": "stdout",
          "text": [
            "tensor([[-0.0100, -0.0575, -0.0716,  0.0682, -0.1696, -0.0436],\n",
            "        [ 0.0616, -0.1260, -0.0751,  0.0196, -0.2133, -0.0636],\n",
            "        [ 0.1412, -0.0786, -0.0602,  0.0388, -0.1735, -0.0745],\n",
            "        [ 0.0615, -0.0358, -0.0398, -0.0179, -0.1160, -0.0573],\n",
            "        [ 0.0165, -0.0327, -0.0536,  0.0320, -0.2167, -0.0650],\n",
            "        [ 0.0629, -0.0497, -0.0650, -0.0220, -0.1817, -0.0053],\n",
            "        [ 0.1009, -0.0535, -0.0313,  0.0097, -0.2202, -0.0289],\n",
            "        [ 0.0140, -0.0814, -0.0474,  0.0083, -0.1916, -0.0365],\n",
            "        [ 0.1034, -0.0835, -0.0416,  0.0040, -0.2056, -0.0580],\n",
            "        [ 0.0717, -0.0629, -0.0872, -0.0139, -0.1638, -0.0807]],\n",
            "       device='cuda:0', grad_fn=<AddmmBackward0>)\n"
          ]
        }
      ]
    },
    {
      "cell_type": "markdown",
      "source": [
        "# Train"
      ],
      "metadata": {
        "id": "3rIGH-SMorKq"
      }
    },
    {
      "cell_type": "markdown",
      "source": [
        "## start train"
      ],
      "metadata": {
        "id": "vjR-TeOjoume"
      }
    },
    {
      "cell_type": "code",
      "source": [
        "loss_l = []\n",
        "validloss_l = []\n",
        "epoch_num = 30\n",
        "\n",
        "for epoch in range(epoch_num):\n",
        "  for index, (data, target) in enumerate(train_dataloader):\n",
        "    data = data.to(device)\n",
        "    target = target.to(device)\n",
        "    optimizer.zero_grad()  # 기울기 초기화\n",
        "    output = cnn(data)\n",
        "    loss = criterion(output, target)\n",
        "    loss.backward()  # 역전파\n",
        "    optimizer.step()\n",
        "\n",
        "  for   index, (data, target) in enumerate(valid_dataloader):\n",
        "    data = data.to(device)\n",
        "    target = target.to(device)\n",
        "    output = cnn(data)\n",
        "    valid_loss = criterion(output,target)\n",
        "\n",
        "  print(f\"loss of {epoch} epoch, {loss.item():.3f} / valid loss: {valid_loss:.3f}\")\n",
        "  loss_l.append(loss.item())\n",
        "  validloss_l.append(valid_loss.item())\n"
      ],
      "metadata": {
        "colab": {
          "base_uri": "https://localhost:8080/"
        },
        "id": "IY106c6piZyW",
        "outputId": "c8bee45c-b17d-4fc1-df1f-60a55ae1c8fc"
      },
      "execution_count": 107,
      "outputs": [
        {
          "output_type": "stream",
          "name": "stdout",
          "text": [
            "loss of 0 epoch, 1.168 / valid loss: 0.876\n",
            "loss of 1 epoch, 1.006 / valid loss: 0.820\n",
            "loss of 2 epoch, 0.933 / valid loss: 0.780\n",
            "loss of 3 epoch, 0.865 / valid loss: 0.763\n",
            "loss of 4 epoch, 0.813 / valid loss: 0.770\n",
            "loss of 5 epoch, 0.779 / valid loss: 0.785\n",
            "loss of 6 epoch, 0.763 / valid loss: 0.808\n",
            "loss of 7 epoch, 0.769 / valid loss: 0.850\n",
            "loss of 8 epoch, 0.791 / valid loss: 0.890\n",
            "loss of 9 epoch, 0.783 / valid loss: 0.892\n",
            "loss of 10 epoch, 0.766 / valid loss: 0.889\n",
            "loss of 11 epoch, 0.748 / valid loss: 0.894\n",
            "loss of 12 epoch, 0.720 / valid loss: 0.884\n",
            "loss of 13 epoch, 0.694 / valid loss: 0.874\n",
            "loss of 14 epoch, 0.666 / valid loss: 0.854\n",
            "loss of 15 epoch, 0.641 / valid loss: 0.839\n",
            "loss of 16 epoch, 0.606 / valid loss: 0.793\n",
            "loss of 17 epoch, 0.587 / valid loss: 0.798\n",
            "loss of 18 epoch, 0.550 / valid loss: 0.745\n",
            "loss of 19 epoch, 0.553 / valid loss: 0.804\n",
            "loss of 20 epoch, 0.491 / valid loss: 0.625\n",
            "loss of 21 epoch, 0.553 / valid loss: 0.608\n",
            "loss of 22 epoch, 0.453 / valid loss: 0.549\n",
            "loss of 23 epoch, 0.445 / valid loss: 0.474\n",
            "loss of 24 epoch, 0.430 / valid loss: 0.563\n",
            "loss of 25 epoch, 0.409 / valid loss: 0.585\n",
            "loss of 26 epoch, 0.415 / valid loss: 0.736\n",
            "loss of 27 epoch, 0.369 / valid loss: 0.498\n",
            "loss of 28 epoch, 0.353 / valid loss: 0.510\n",
            "loss of 29 epoch, 0.337 / valid loss: 0.462\n"
          ]
        }
      ]
    },
    {
      "cell_type": "markdown",
      "source": [
        "## plot loss"
      ],
      "metadata": {
        "id": "esXkd7a0ow0D"
      }
    },
    {
      "cell_type": "code",
      "source": [
        "plt.plot(loss_l, label = \"train loss\")\n",
        "plt.plot(validloss_l, label = \"valid loss\")"
      ],
      "metadata": {
        "colab": {
          "base_uri": "https://localhost:8080/",
          "height": 286
        },
        "id": "gAhDbNzClS7y",
        "outputId": "c5203465-977d-4318-fb92-c674b120f4d9"
      },
      "execution_count": 108,
      "outputs": [
        {
          "output_type": "execute_result",
          "data": {
            "text/plain": [
              "[<matplotlib.lines.Line2D at 0x7fbe5141cee0>]"
            ]
          },
          "metadata": {},
          "execution_count": 108
        },
        {
          "output_type": "display_data",
          "data": {
            "text/plain": [
              "<Figure size 432x288 with 1 Axes>"
            ],
            "image/png": "[encoded data removed]"
          },
          "metadata": {
            "needs_background": "light"
          }
        }
      ]
    },
    {
      "cell_type": "markdown",
      "source": [
        "# Test Model"
      ],
      "metadata": {
        "id": "G6g_RwYSozah"
      }
    },
    {
      "cell_type": "markdown",
      "source": [
        "## test model"
      ],
      "metadata": {
        "id": "VUjKDASzpCHx"
      }
    },
    {
      "cell_type": "code",
      "source": [
        "def get_img(file_name) :\n",
        "    # series : data['file_name']\n",
        "    # root_path : 이미지 파일들이 존재하는 디렉토리 경로 ('./dataset/train/')\n",
        "    # return : (28,28,1) 형태의 array들이 담긴 list\n",
        "    \n",
        "\n",
        "\n",
        "    image_path = file_name\n",
        "    image = Image.open(image_path)\n",
        "    image = image.convert('RGB')\n",
        "    image = image.resize((100, 100))\n",
        "    image_array = np.array(image)\n",
        "\n",
        "\n",
        "    reshaped_image = image_array.reshape(100,100,3) #reshape\n",
        "\n",
        "        \n",
        "    return np.array(reshaped_image)"
      ],
      "metadata": {
        "id": "NhUI3hiTsX4e"
      },
      "execution_count": 109,
      "outputs": []
    },
    {
      "cell_type": "code",
      "source": [
        "def get_transform():\n",
        "\n",
        "    t = list()\n",
        "    t.append(transforms.ToTensor())\n",
        "    \n",
        "    # if mode == 'train':\n",
        "    #     t.append(transforms.RandomAffine(degrees=10, translate=(0.1,0.1)))\n",
        "\n",
        "    t.append(transforms.Normalize(mean=(.5),std=(.5)))\n",
        "    \n",
        "    return transforms.Compose(t)"
      ],
      "metadata": {
        "id": "x3_lCOWQtlRw"
      },
      "execution_count": 110,
      "outputs": []
    },
    {
      "cell_type": "code",
      "source": [
        "trans= get_transform()"
      ],
      "metadata": {
        "id": "5JibhQTmtnhb"
      },
      "execution_count": 111,
      "outputs": []
    },
    {
      "cell_type": "code",
      "source": [
        "## 모드 변경\n",
        "\n",
        "cnn.to(\"cpu\")"
      ],
      "metadata": {
        "colab": {
          "base_uri": "https://localhost:8080/"
        },
        "id": "1XW_QJJEV_G6",
        "outputId": "842f6dbb-9673-4bd4-8152-9f730d282632"
      },
      "execution_count": 113,
      "outputs": [
        {
          "output_type": "execute_result",
          "data": {
            "text/plain": [
              "CNN(\n",
              "  (conv1): Conv2d(3, 20, kernel_size=(5, 5), stride=(1, 1))\n",
              "  (conv2): Conv2d(20, 50, kernel_size=(5, 5), stride=(1, 1))\n",
              "  (fc1): Linear(in_features=24200, out_features=500, bias=True)\n",
              "  (fc2): Linear(in_features=500, out_features=6, bias=True)\n",
              ")"
            ]
          },
          "metadata": {},
          "execution_count": 113
        }
      ]
    },
    {
      "cell_type": "code",
      "source": [
        "test_path = '/content/drive/MyDrive/data/archive/bee_imgs/bee_imgs/001_078.png'\n",
        "print(\"file path:\", test_path)\n",
        "image_tensor = get_img(test_path)\n",
        "\n",
        "trans(image_tensor)\n",
        "output = cnn(trans(image_tensor))\n",
        "\n",
        "output = F.softmax(output, dim=1)\n",
        "\n",
        "output = output.tolist()\n",
        "output = output[0]\n",
        "output_index = output.index(max(output))\n",
        "image = Image.open(test_path)\n",
        "image = np.array(image)\n",
        "plt.imshow(image)\n",
        "print(\"label of test data: \", label_list[output_index])"
      ],
      "metadata": {
        "colab": {
          "base_uri": "https://localhost:8080/",
          "height": 305
        },
        "id": "buM2JI0zpBrZ",
        "outputId": "d974d2d5-1800-4de3-cc98-c786a4c1b820"
      },
      "execution_count": 114,
      "outputs": [
        {
          "output_type": "stream",
          "name": "stdout",
          "text": [
            "file path: /content/drive/MyDrive/data/archive/bee_imgs/bee_imgs/001_078.png\n",
            "label of test data:  healthy\n"
          ]
        },
        {
          "output_type": "display_data",
          "data": {
            "text/plain": [
              "<Figure size 432x288 with 1 Axes>"
            ],
            "image/png": "[encoded data removed]"
          },
          "metadata": {
            "needs_background": "light"
          }
        }
      ]
    },
    {
      "cell_type": "markdown",
      "source": [
        "# Model Analysis"
      ],
      "metadata": {
        "id": "VoM--5fgWIwE"
      }
    },
    {
      "cell_type": "markdown",
      "source": [
        "## Confusion Matrix"
      ],
      "metadata": {
        "id": "ds27i-L7WW-6"
      }
    },
    {
      "cell_type": "code",
      "source": [
        "cnn.eval()"
      ],
      "metadata": {
        "colab": {
          "base_uri": "https://localhost:8080/"
        },
        "id": "oJMas24mXSrq",
        "outputId": "00f6caad-8d15-4056-874f-f4d3c6a8da3d"
      },
      "execution_count": 116,
      "outputs": [
        {
          "output_type": "execute_result",
          "data": {
            "text/plain": [
              "CNN(\n",
              "  (conv1): Conv2d(3, 20, kernel_size=(5, 5), stride=(1, 1))\n",
              "  (conv2): Conv2d(20, 50, kernel_size=(5, 5), stride=(1, 1))\n",
              "  (fc1): Linear(in_features=24200, out_features=500, bias=True)\n",
              "  (fc2): Linear(in_features=500, out_features=6, bias=True)\n",
              ")"
            ]
          },
          "metadata": {},
          "execution_count": 116
        }
      ]
    },
    {
      "cell_type": "code",
      "source": [
        "rows = len(label_list)\n",
        "cols = len(label_list)\n",
        "\n",
        "arr = [[0 for j in range(cols)] for i in range(rows)]\n"
      ],
      "metadata": {
        "id": "2znRw26WXjji"
      },
      "execution_count": 120,
      "outputs": []
    },
    {
      "cell_type": "code",
      "source": [
        "y_pred = []\n",
        "y_true = []\n",
        "\n",
        "# iterate over test data\n",
        "for index, (inputs, labels) in enumerate(valid_dataloader):\n",
        "        output = cnn(inputs) # Feed Network\n",
        "\n",
        "        output = (torch.max(torch.exp(output), 1)[1]).data.cpu().numpy()\n",
        "        y_pred.extend(output) # Save Prediction\n",
        "        \n",
        "        labels = labels.data.cpu().numpy()\n",
        "        y_true.extend(labels) # Save Truth\n",
        "\n",
        "print(y_pred)\n",
        "print(y_true)"
      ],
      "metadata": {
        "colab": {
          "base_uri": "https://localhost:8080/"
        },
        "id": "clX5XZ2UYfss",
        "outputId": "e8058be8-b33e-44ca-b21d-72fb5c518531"
      },
      "execution_count": 125,
      "outputs": [
        {
          "output_type": "stream",
          "name": "stdout",
          "text": [
            "[1, 1, 1, 0, 1, 1, 1, 5, 1, 3, 3, 2, 1, 2, 1, 1, 1, 1, 1, 1, 1, 1, 0, 1, 1, 5, 1, 3, 1, 1, 1, 1, 2, 1, 1, 1, 1, 0, 1, 1, 1, 1, 5, 0, 1, 1, 3, 1, 1, 1, 5, 1, 1, 1, 1, 1, 1, 1, 1, 0, 5, 1, 5, 2, 1, 0, 1, 1, 1, 1, 1, 1, 2, 1, 2, 1, 2, 5, 1, 1, 1, 1, 1, 1, 1, 1, 1, 1, 1, 1, 1, 3, 1, 1, 1, 1, 5, 1, 3, 1, 1, 1, 3, 2, 1, 1, 1, 1, 0, 0, 1, 1, 1, 1, 1, 1, 3, 1, 1, 2, 1, 2, 1, 2, 1, 1, 3, 1, 1, 5, 1, 1, 2, 2, 1, 1, 5, 1, 1, 1, 2, 2, 1, 3, 1, 1, 1, 1, 1, 5, 1, 1, 1, 1, 1, 5, 5, 1, 1, 5, 0, 1, 2, 1, 1, 3, 1, 1, 1, 1, 1, 2, 2, 2, 2, 1, 3, 1, 1, 1, 1, 1, 1, 2, 1, 1, 0, 1, 1, 1, 1, 1, 1, 3, 1, 1, 1, 1, 2, 1]\n",
            "[1, 1, 3, 1, 1, 1, 1, 5, 2, 3, 3, 5, 1, 5, 1, 1, 1, 1, 1, 1, 1, 1, 4, 1, 1, 5, 1, 3, 1, 1, 2, 1, 2, 1, 1, 1, 1, 5, 1, 1, 1, 3, 2, 0, 1, 1, 3, 3, 1, 1, 5, 1, 2, 1, 1, 1, 1, 1, 1, 2, 2, 1, 5, 5, 1, 0, 0, 1, 1, 1, 1, 1, 2, 1, 2, 1, 5, 5, 1, 1, 1, 1, 1, 1, 1, 1, 1, 1, 1, 1, 1, 3, 1, 1, 1, 1, 5, 1, 3, 1, 1, 1, 3, 5, 1, 1, 1, 1, 3, 0, 1, 1, 1, 5, 1, 1, 3, 1, 1, 5, 1, 2, 1, 2, 0, 1, 5, 1, 1, 5, 1, 1, 5, 2, 2, 1, 5, 1, 1, 1, 2, 2, 1, 3, 1, 1, 1, 1, 1, 2, 1, 1, 1, 1, 2, 5, 2, 1, 1, 2, 2, 1, 5, 1, 1, 3, 1, 1, 1, 1, 1, 2, 2, 5, 5, 1, 3, 3, 1, 1, 1, 1, 1, 5, 1, 1, 1, 1, 1, 1, 1, 2, 1, 3, 1, 2, 1, 1, 1, 1]\n"
          ]
        }
      ]
    },
    {
      "cell_type": "code",
      "source": [
        "classes = label_list"
      ],
      "metadata": {
        "id": "m2O1hwNQY7zW"
      },
      "execution_count": 127,
      "outputs": []
    },
    {
      "cell_type": "code",
      "source": [
        "from sklearn.metrics import confusion_matrix\n",
        "import seaborn as sns"
      ],
      "metadata": {
        "id": "xYOzozVPZ5ge"
      },
      "execution_count": 129,
      "outputs": []
    },
    {
      "cell_type": "code",
      "source": [
        "cf_matrix = confusion_matrix(y_true, y_pred, normalize = 'pred')\n",
        "df_cm = pd.DataFrame(cf_matrix/np.sum(cf_matrix) *10, index = [i for i in classes],\n",
        "                     columns = [i for i in classes])\n",
        "plt.figure(figsize = (12,7))\n",
        "sns.heatmap(df_cm, annot=True)\n",
        "plt.show"
      ],
      "metadata": {
        "colab": {
          "base_uri": "https://localhost:8080/",
          "height": 570
        },
        "id": "dKW04n5kZDT8",
        "outputId": "107554b4-9d2b-4158-f127-4cf1aec7221b"
      },
      "execution_count": 136,
      "outputs": [
        {
          "output_type": "execute_result",
          "data": {
            "text/plain": [
              "<function matplotlib.pyplot.show(*args, **kw)>"
            ]
          },
          "metadata": {},
          "execution_count": 136
        },
        {
          "output_type": "display_data",
          "data": {
            "text/plain": [
              "<Figure size 864x504 with 2 Axes>"
            ],
            "image/png": "[encoded data removed]"
          },
          "metadata": {
            "needs_background": "light"
          }
        }
      ]
    },
    {
      "cell_type": "markdown",
      "source": [
        "## confusion matrix 분석"
      ],
      "metadata": {
        "id": "Q-HT9lp3a3De"
      }
    },
    {
      "cell_type": "markdown",
      "source": [
        "### confusion matrix 를 통한 분석\n",
        "1. missing queen 라벨을 제외하고 정답에 근사함\n",
        "2. few varrao...(실제) 를 Varrao, Small Hive Beetles(예측) 로 착각하는 경우 잦음\n",
        "3. 반대로 Varroa ..(실제) 을 few varrao ..(예측) 로 착각하는 경우도 많음"
      ],
      "metadata": {
        "id": "7Q6y-U-8a5Kl"
      }
    },
    {
      "cell_type": "code",
      "source": [],
      "metadata": {
        "id": "f8xAy2mra2A3"
      },
      "execution_count": null,
      "outputs": []
    }
  ]
}