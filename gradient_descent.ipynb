{
  "cells": [
    {
      "cell_type": "markdown",
      "metadata": {
        "id": "view-in-github",
        "colab_type": "text"
      },
      "source": [
        "<a href=\"https://colab.research.google.com/github/delibae/AI_study/blob/main/gradient_descent.ipynb\" target=\"_parent\"><img src=\"https://colab.research.google.com/assets/colab-badge.svg\" alt=\"Open In Colab\"/></a>"
      ]
    },
    {
      "cell_type": "code",
      "execution_count": 19,
      "metadata": {
        "colab": {
          "base_uri": "https://localhost:8080/"
        },
        "id": "GyPMiqsopYTY",
        "outputId": "42e956ab-d2f1-4bbc-8b7f-58f3fbf80cb6"
      },
      "outputs": [
        {
          "output_type": "stream",
          "name": "stdout",
          "text": [
            "[0, 1, 1, 2, 3, 5, 8, 13, 21, 34, 55, 89, 144, 233, 377, 610, 987, 1597, 2584, 4181, 6765, 10946, 17711, 28657, 46368, 75025, 121393, 196418, 317811, 514229, 832040, 1346269, 2178309, 3524578, 5702887, 9227465, 14930352, 24157817, 39088169, 63245986, 102334155, 165580141, 267914296, 433494437, 701408733, 1134903170, 1836311903, 2971215073, 4807526976, 7778742049, 12586269025, 20365011074, 32951280099, 53316291173, 86267571272, 139583862445, 225851433717, 365435296162, 591286729879, 956722026041, 1548008755920, 2504730781961, 4052739537881, 6557470319842, 10610209857723, 17167680177565, 27777890035288, 44945570212853, 72723460248141, 117669030460994, 190392490709135, 308061521170129, 498454011879264, 806515533049393, 1304969544928657, 2111485077978050, 3416454622906707, 5527939700884757, 8944394323791464, 14472334024676221, 23416728348467685, 37889062373143906, 61305790721611591, 99194853094755497, 160500643816367088, 259695496911122585, 420196140727489673, 679891637638612258, 1100087778366101931, 1779979416004714189, 2880067194370816120, 4660046610375530309, 7540113804746346429, 12200160415121876738, 19740274219868223167, 31940434634990099905, 51680708854858323072, 83621143489848422977, 135301852344706746049, 218922995834555169026]\n"
          ]
        }
      ],
      "source": [
        "def f1(b, l):\n",
        "  s1 = 0\n",
        "  s2 = 1\n",
        "  l.append(s1)\n",
        "  l.append(s2)\n",
        "  for i in range(b-2):\n",
        "    s2 = s2 + l[-2]\n",
        "    l.append(s2)\n",
        "  return l\n",
        "  \n",
        "b = 100\n",
        "l = []\n",
        "\n",
        "l = f1(b,l)\n",
        "\n",
        "print(l)"
      ]
    },
    {
      "cell_type": "markdown",
      "source": [
        "경사하강"
      ],
      "metadata": {
        "id": "_rEgSu6aOMph"
      }
    },
    {
      "cell_type": "code",
      "source": [
        "from tensorflow import keras\n",
        "import numpy as np\n",
        "\n",
        "x = [0,1,2,3,4]\n",
        "x = np.array(x,dtype='float64')\n",
        "y = [1,3,5,7,9]\n",
        "y = np.array(y, dtype='float64')\n",
        "\n",
        "\n",
        "model = keras.models.Sequential()\n",
        "\n",
        "model.add(keras.layers.Dense(1,input_shape=(1,)))\n",
        "model.compile('SGD', 'mse')\n",
        "model.fit(x,y, epochs=10)\n",
        "\n",
        "print(model.predict([7,10,99]))\n",
        "model.summary()\n"
      ],
      "metadata": {
        "colab": {
          "base_uri": "https://localhost:8080/"
        },
        "id": "Du1EP6_xKtc3",
        "outputId": "11047d1b-97ce-4ae1-90ca-7c4626d0fe6e"
      },
      "execution_count": 23,
      "outputs": [
        {
          "output_type": "stream",
          "name": "stdout",
          "text": [
            "Epoch 1/10\n",
            "1/1 [==============================] - 0s 253ms/step - loss: 26.3621\n",
            "Epoch 2/10\n",
            "1/1 [==============================] - 0s 10ms/step - loss: 19.7785\n",
            "Epoch 3/10\n",
            "1/1 [==============================] - 0s 7ms/step - loss: 14.8412\n",
            "Epoch 4/10\n",
            "1/1 [==============================] - 0s 7ms/step - loss: 11.1387\n",
            "Epoch 5/10\n",
            "1/1 [==============================] - 0s 6ms/step - loss: 8.3620\n",
            "Epoch 6/10\n",
            "1/1 [==============================] - 0s 6ms/step - loss: 6.2797\n",
            "Epoch 7/10\n",
            "1/1 [==============================] - 0s 13ms/step - loss: 4.7181\n",
            "Epoch 8/10\n",
            "1/1 [==============================] - 0s 10ms/step - loss: 3.5469\n",
            "Epoch 9/10\n",
            "1/1 [==============================] - 0s 5ms/step - loss: 2.6685\n",
            "Epoch 10/10\n",
            "1/1 [==============================] - 0s 5ms/step - loss: 2.0097\n",
            "1/1 [==============================] - 0s 53ms/step\n",
            "[[ 12.211461]\n",
            " [ 17.221903]\n",
            " [165.86502 ]]\n",
            "Model: \"sequential_15\"\n",
            "_________________________________________________________________\n",
            " Layer (type)                Output Shape              Param #   \n",
            "=================================================================\n",
            " dense_15 (Dense)            (None, 1)                 2         \n",
            "                                                                 \n",
            "=================================================================\n",
            "Total params: 2\n",
            "Trainable params: 2\n",
            "Non-trainable params: 0\n",
            "_________________________________________________________________\n"
          ]
        }
      ]
    }
  ],
  "metadata": {
    "colab": {
      "provenance": [],
      "authorship_tag": "ABX9TyOkV96SHGYrxaTz9iC4lrSd",
      "include_colab_link": true
    },
    "kernelspec": {
      "display_name": "Python 3",
      "name": "python3"
    },
    "language_info": {
      "name": "python"
    }
  },
  "nbformat": 4,
  "nbformat_minor": 0
}