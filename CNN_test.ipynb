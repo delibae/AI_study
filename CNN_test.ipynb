{
  "nbformat": 4,
  "nbformat_minor": 0,
  "metadata": {
    "colab": {
      "provenance": [],
      "mount_file_id": "1WfZz9dIOvEH7RM-IXYDl4RJ98VsACYqZ",
      "authorship_tag": "ABX9TyNYNkztx6Y4LZcXK7cIvQPC",
      "include_colab_link": true
    },
    "kernelspec": {
      "name": "python3",
      "display_name": "Python 3"
    },
    "language_info": {
      "name": "python"
    },
    "accelerator": "GPU",
    "gpuClass": "standard"
  },
  "cells": [
    {
      "cell_type": "markdown",
      "metadata": {
        "id": "view-in-github",
        "colab_type": "text"
      },
      "source": [
        "<a href=\"https://colab.research.google.com/github/delibae/AI_study/blob/main/CNN_test.ipynb\" target=\"_parent\"><img src=\"https://colab.research.google.com/assets/colab-badge.svg\" alt=\"Open In Colab\"/></a>"
      ]
    },
    {
      "cell_type": "markdown",
      "source": [
        "#Main"
      ],
      "metadata": {
        "id": "BCuEyJZeKBYL"
      }
    },
    {
      "cell_type": "code",
      "execution_count": 37,
      "metadata": {
        "colab": {
          "base_uri": "https://localhost:8080/",
          "height": 1000
        },
        "id": "jrOTsGqhFFv7",
        "outputId": "07a43601-c1c3-4b77-a8c2-9ab65ea86c26"
      },
      "outputs": [
        {
          "output_type": "stream",
          "name": "stdout",
          "text": [
            "(187, 64, 64, 3)\n",
            "(187,)\n",
            "Model: \"model_3\"\n",
            "__________________________________________________________________________________________________\n",
            " Layer (type)                   Output Shape         Param #     Connected to                     \n",
            "==================================================================================================\n",
            " input_4 (InputLayer)           [(None, 64, 64, 3)]  0           []                               \n",
            "                                                                                                  \n",
            " conv2d_25 (Conv2D)             (None, 64, 64, 64)   256         ['input_4[0][0]']                \n",
            "                                                                                                  \n",
            " conv2d_22 (Conv2D)             (None, 64, 64, 64)   256         ['input_4[0][0]']                \n",
            "                                                                                                  \n",
            " max_pooling2d_3 (MaxPooling2D)  (None, 64, 64, 3)   0           ['input_4[0][0]']                \n",
            "                                                                                                  \n",
            " conv2d_26 (Conv2D)             (None, 64, 64, 64)   36928       ['conv2d_25[0][0]']              \n",
            "                                                                                                  \n",
            " conv2d_21 (Conv2D)             (None, 64, 64, 64)   256         ['input_4[0][0]']                \n",
            "                                                                                                  \n",
            " conv2d_23 (Conv2D)             (None, 64, 64, 64)   36928       ['conv2d_22[0][0]']              \n",
            "                                                                                                  \n",
            " conv2d_24 (Conv2D)             (None, 64, 64, 64)   1792        ['max_pooling2d_3[0][0]']        \n",
            "                                                                                                  \n",
            " conv2d_27 (Conv2D)             (None, 64, 64, 64)   36928       ['conv2d_26[0][0]']              \n",
            "                                                                                                  \n",
            " concatenate_3 (Concatenate)    (None, 64, 64, 256)  0           ['conv2d_21[0][0]',              \n",
            "                                                                  'conv2d_23[0][0]',              \n",
            "                                                                  'conv2d_24[0][0]',              \n",
            "                                                                  'conv2d_27[0][0]']              \n",
            "                                                                                                  \n",
            " flatten_3 (Flatten)            (None, 1048576)      0           ['concatenate_3[0][0]']          \n",
            "                                                                                                  \n",
            " dense_3 (Dense)                (None, 2)            2097154     ['flatten_3[0][0]']              \n",
            "                                                                                                  \n",
            "==================================================================================================\n",
            "Total params: 2,210,498\n",
            "Trainable params: 2,210,498\n",
            "Non-trainable params: 0\n",
            "__________________________________________________________________________________________________\n",
            "Epoch 1/20\n",
            "2/2 [==============================] - 1s 273ms/step - loss: 23.9749 - accuracy: 0.5369 - val_loss: 18.3775 - val_accuracy: 0.6053\n",
            "Epoch 2/20\n",
            "2/2 [==============================] - 0s 90ms/step - loss: 15.6724 - accuracy: 0.5235 - val_loss: 12.9088 - val_accuracy: 0.3947\n",
            "Epoch 3/20\n",
            "2/2 [==============================] - 0s 92ms/step - loss: 9.5205 - accuracy: 0.4027 - val_loss: 9.3835 - val_accuracy: 0.6053\n",
            "Epoch 4/20\n",
            "2/2 [==============================] - 0s 92ms/step - loss: 9.9688 - accuracy: 0.6107 - val_loss: 12.9596 - val_accuracy: 0.6053\n",
            "Epoch 5/20\n",
            "2/2 [==============================] - 0s 92ms/step - loss: 11.8045 - accuracy: 0.6107 - val_loss: 6.5935 - val_accuracy: 0.6053\n",
            "Epoch 6/20\n",
            "2/2 [==============================] - 0s 95ms/step - loss: 4.2827 - accuracy: 0.6443 - val_loss: 7.7897 - val_accuracy: 0.3947\n",
            "Epoch 7/20\n",
            "2/2 [==============================] - 0s 92ms/step - loss: 7.9779 - accuracy: 0.3893 - val_loss: 6.4546 - val_accuracy: 0.3947\n",
            "Epoch 8/20\n",
            "2/2 [==============================] - 0s 92ms/step - loss: 4.2785 - accuracy: 0.5034 - val_loss: 3.3821 - val_accuracy: 0.6053\n",
            "Epoch 9/20\n",
            "2/2 [==============================] - 0s 97ms/step - loss: 3.3005 - accuracy: 0.6376 - val_loss: 6.0292 - val_accuracy: 0.6053\n",
            "Epoch 10/20\n",
            "2/2 [==============================] - 0s 90ms/step - loss: 4.5372 - accuracy: 0.6174 - val_loss: 3.2637 - val_accuracy: 0.6053\n",
            "Epoch 11/20\n",
            "2/2 [==============================] - 0s 94ms/step - loss: 1.5811 - accuracy: 0.7181 - val_loss: 2.7774 - val_accuracy: 0.4474\n",
            "Epoch 12/20\n",
            "2/2 [==============================] - 0s 91ms/step - loss: 2.1952 - accuracy: 0.5570 - val_loss: 2.3470 - val_accuracy: 0.4737\n",
            "Epoch 13/20\n",
            "2/2 [==============================] - 0s 94ms/step - loss: 1.1508 - accuracy: 0.7315 - val_loss: 1.7895 - val_accuracy: 0.5789\n",
            "Epoch 14/20\n",
            "2/2 [==============================] - 0s 91ms/step - loss: 0.8545 - accuracy: 0.7248 - val_loss: 2.4461 - val_accuracy: 0.6053\n",
            "Epoch 15/20\n",
            "2/2 [==============================] - 0s 97ms/step - loss: 0.9652 - accuracy: 0.7383 - val_loss: 1.3094 - val_accuracy: 0.6579\n",
            "Epoch 16/20\n",
            "2/2 [==============================] - 0s 94ms/step - loss: 0.2963 - accuracy: 0.8658 - val_loss: 1.4871 - val_accuracy: 0.6579\n",
            "Epoch 17/20\n",
            "2/2 [==============================] - 0s 91ms/step - loss: 0.4332 - accuracy: 0.8456 - val_loss: 1.2658 - val_accuracy: 0.7105\n",
            "Epoch 18/20\n",
            "2/2 [==============================] - 0s 94ms/step - loss: 0.1895 - accuracy: 0.9060 - val_loss: 1.5295 - val_accuracy: 0.6842\n",
            "Epoch 19/20\n",
            "2/2 [==============================] - 0s 91ms/step - loss: 0.2105 - accuracy: 0.9195 - val_loss: 1.1537 - val_accuracy: 0.7105\n",
            "Epoch 20/20\n",
            "2/2 [==============================] - 0s 90ms/step - loss: 0.1451 - accuracy: 0.9463 - val_loss: 1.1479 - val_accuracy: 0.7105\n"
          ]
        },
        {
          "output_type": "display_data",
          "data": {
            "text/plain": [
              "<Figure size 432x288 with 1 Axes>"
            ],
            "image/png": "[encoded data removed]"
          },
          "metadata": {
            "needs_background": "light"
          }
        }
      ],
      "source": [
        "# 데이터 경로 설정\n",
        "folder_path = '/content/drive/MyDrive/AI_3/real_data_test database'\n",
        "\n",
        "# 데이터 불러오기.\n",
        "import glob\n",
        "import PIL\n",
        "import numpy as np\n",
        "from sklearn.model_selection import train_test_split\n",
        "\n",
        "# 남자, 승기 구분 프로그램을 위한 폴더이름 적어놓기.\n",
        "folders = ['man', 'seunggi']\n",
        "\n",
        "# 리스트 하나 만들어놔야지.\n",
        "x_data = []\n",
        "y_data = []\n",
        "label = 0\n",
        "\n",
        "# 각각의 개체 files에 저장.\n",
        "for folder in folders:\n",
        "  files = glob.glob(folder_path + '/' + folder + '/*')\n",
        "# 파일 이름들에 대해 열어서,\n",
        "  for file_path in files:\n",
        "    img = PIL.Image.open(file_path)\n",
        "    img = img.convert('RGB')  # 흑백 사진도 처리 가능하게 rgb 단위로. + pixel 64 * 64\n",
        "    img = img.resize((64, 64))\n",
        "    np_image = np.array(img)\n",
        "    x_data.append(np_image) # 승기든 남자든 numpy 행렬 데이터 넣자.\n",
        "    y_data.append(label) # label (구분기준) 넣어놓자.\n",
        "  label += 1 # 승기 다 끝나고, 남자 구분기준으로 바꾸는 작업.\n",
        "\n",
        "x_data = np.array(x_data)\n",
        "y_data = np.array(y_data)\n",
        "\n",
        "print(x_data.shape)\n",
        "print(y_data.shape)\n",
        "\n",
        "# 20퍼만 \n",
        "x_train, x_test, y_train, y_test = train_test_split(x_data, y_data, test_size = 0.2)\n",
        "x_train, x_test = x_train/255, x_test/255\n",
        "\n",
        "from tensorflow.keras import layers\n",
        "import tensorflow as tf\n",
        "\n",
        "with tf.device('/device:GPU:0'):\n",
        "\n",
        "  # 32 * 32 픽셀 그림 channel = 3\n",
        "  input_img = layers.Input(shape = (64,64,3))\n",
        "  tower_1 = layers.Conv2D(64, (1,1), padding = 'same', activation = 'relu')(input_img)\n",
        "\n",
        "  tower_2 = layers.Conv2D(64, (1,1), padding = 'same', activation = 'relu')(input_img)\n",
        "  tower_2 = layers.Conv2D(64, (3,3), padding = 'same', activation = 'relu')(tower_2)\n",
        "\n",
        "  tower_3 = layers.MaxPooling2D((3,3), padding = 'same', strides = (1,1)) (input_img)\n",
        "  tower_3 = layers.Conv2D(64, (3,3), padding = 'same', activation = 'relu')(tower_3)\n",
        "\n",
        "  tower_4 = layers.Conv2D(64, (1,1), padding = 'same', activation = 'relu')(input_img)\n",
        "  tower_4 = layers.Conv2D(64, (3,3), padding = 'same', activation = 'relu')(tower_4)\n",
        "  tower_4 = layers.Conv2D(64, (3,3), padding = 'same', activation = 'relu')(tower_4)\n",
        "\n",
        "  # axis에서 x축 = 1, y축 = 2, z축 = 3.\n",
        "  concat_layer = layers.concatenate([tower_1, tower_2, tower_3, tower_4], axis = 3)\n",
        "  flat_layer = layers.Flatten()(concat_layer)\n",
        "  output = layers.Dense(2, activation = 'softmax')(flat_layer)\n",
        "  model = tf.keras.models.Model(input_img, output)\n",
        "  model.summary()\n",
        "\n",
        "  # sparse = data 전처리 (행렬화)\n",
        "  model.compile(optimizer = 'adam', loss = 'sparse_categorical_crossentropy', metrics = ['accuracy'])\n",
        "  # batch size 가 커질수록, 연산(이 case에서는 200000개의 parameter) 후 가져오는 parameter의 개수 = batch size기 때문에, 메모리에서 그 parameter를 가져오는 과정에서 메모리가 터질 수 있음. (batch size가 클수록.)\n",
        "  history = model.fit(x_train, y_train, validation_data = (x_test, y_test), epochs = 20, batch_size = 100)\n",
        "\n",
        "  import matplotlib\n",
        "  # 학습하면 학습할수록, train_loss는 감소, 하지만, val_loss 는 다시 증가(overfitting 발생)\n",
        "  matplotlib.pyplot.plot(history.history['loss'], label = 'train_loss')\n",
        "  matplotlib.pyplot.plot(history.history['val_loss'], label = 'val_loss')\n",
        "  matplotlib.pyplot.legend()"
      ]
    },
    {
      "cell_type": "markdown",
      "source": [
        "#test"
      ],
      "metadata": {
        "id": "us2i6oEpJ6hH"
      }
    },
    {
      "cell_type": "code",
      "source": [
        "import glob\n",
        "import PIL\n",
        "import numpy as np\n",
        "from sklearn.model_selection import train_test_split\n",
        "\n",
        "\n",
        "folder_path = '/content/drive/MyDrive/AI_3'\n",
        "\n",
        "test_data = []\n",
        "folders = ['test']\n",
        "# 각각의 개체 files에 저장.\n",
        "for folder in folders:\n",
        "  files = glob.glob(folder_path + '/' + folder + '/*')\n",
        "# 파일 이름들에 대해 열어서,\n",
        "  for file_path in files:\n",
        "    img = PIL.Image.open(file_path)\n",
        "    img = img.convert('RGB')  # 흑백 사진도 처리 가능하게 rgb 단위로. + pixel 64 * 64\n",
        "    img = img.resize((64, 64))\n",
        "    np_image = np.array(img)\n",
        "    test_data.append(np_image) # 승기든 남자든 numpy 행렬 데이터 넣자.\n"
      ],
      "metadata": {
        "id": "q9KdcsiEG43l"
      },
      "execution_count": 43,
      "outputs": []
    },
    {
      "cell_type": "code",
      "source": [
        "# print(model.predict(np.array([test_data[0]])))\n",
        "\n",
        "for t in test_data:\n",
        "  print(model.predict(np.array([t])))"
      ],
      "metadata": {
        "colab": {
          "base_uri": "https://localhost:8080/"
        },
        "id": "xahkWfv2LpC9",
        "outputId": "682444d1-909a-4951-fe5f-d43bee7ef7c4"
      },
      "execution_count": 44,
      "outputs": [
        {
          "output_type": "stream",
          "name": "stdout",
          "text": [
            "1/1 [==============================] - 0s 17ms/step\n",
            "[[1. 0.]]\n"
          ]
        }
      ]
    }
  ]
}