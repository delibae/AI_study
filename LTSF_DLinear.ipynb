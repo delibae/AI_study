{
  "nbformat": 4,
  "nbformat_minor": 0,
  "metadata": {
    "colab": {
      "provenance": [],
      "toc_visible": true,
      "authorship_tag": "ABX9TyOmT0YpsxPjP4yrOLRkoxMq",
      "include_colab_link": true
    },
    "kernelspec": {
      "name": "python3",
      "display_name": "Python 3"
    },
    "language_info": {
      "name": "python"
    }
  },
  "cells": [
    {
      "cell_type": "markdown",
      "metadata": {
        "id": "view-in-github",
        "colab_type": "text"
      },
      "source": [
        "<a href=\"https://colab.research.google.com/github/delibae/AI_study/blob/main/LTSF_DLinear.ipynb\" target=\"_parent\"><img src=\"https://colab.research.google.com/assets/colab-badge.svg\" alt=\"Open In Colab\"/></a>"
      ]
    },
    {
      "cell_type": "markdown",
      "source": [
        "# Paper Data Provider"
      ],
      "metadata": {
        "id": "P_Y8KzMzbZLF"
      }
    },
    {
      "cell_type": "markdown",
      "source": [
        "## time normalize"
      ],
      "metadata": {
        "id": "njnaTEjoeWzy"
      }
    },
    {
      "cell_type": "code",
      "source": [
        "from typing import List\n",
        "\n",
        "import numpy as np\n",
        "import pandas as pd\n",
        "from pandas.tseries import offsets\n",
        "from pandas.tseries.frequencies import to_offset\n",
        "\n",
        "\n",
        "class TimeFeature:\n",
        "    def __init__(self):\n",
        "        pass\n",
        "\n",
        "    def __call__(self, index: pd.DatetimeIndex) -> np.ndarray:\n",
        "        pass\n",
        "\n",
        "    def __repr__(self):\n",
        "        return self.__class__.__name__ + \"()\"\n",
        "\n",
        "\n",
        "class SecondOfMinute(TimeFeature):\n",
        "    \"\"\"Minute of hour encoded as value between [-0.5, 0.5]\"\"\"\n",
        "\n",
        "    def __call__(self, index: pd.DatetimeIndex) -> np.ndarray:\n",
        "        return index.second / 59.0 - 0.5\n",
        "\n",
        "\n",
        "class MinuteOfHour(TimeFeature):\n",
        "    \"\"\"Minute of hour encoded as value between [-0.5, 0.5]\"\"\"\n",
        "\n",
        "    def __call__(self, index: pd.DatetimeIndex) -> np.ndarray:\n",
        "        return index.minute / 59.0 - 0.5\n",
        "\n",
        "\n",
        "class HourOfDay(TimeFeature):\n",
        "    \"\"\"Hour of day encoded as value between [-0.5, 0.5]\"\"\"\n",
        "\n",
        "    def __call__(self, index: pd.DatetimeIndex) -> np.ndarray:\n",
        "        return index.hour / 23.0 - 0.5\n",
        "\n",
        "\n",
        "class DayOfWeek(TimeFeature):\n",
        "    \"\"\"Hour of day encoded as value between [-0.5, 0.5]\"\"\"\n",
        "\n",
        "    def __call__(self, index: pd.DatetimeIndex) -> np.ndarray:\n",
        "        return index.dayofweek / 6.0 - 0.5\n",
        "\n",
        "\n",
        "class DayOfMonth(TimeFeature):\n",
        "    \"\"\"Day of month encoded as value between [-0.5, 0.5]\"\"\"\n",
        "\n",
        "    def __call__(self, index: pd.DatetimeIndex) -> np.ndarray:\n",
        "        return (index.day - 1) / 30.0 - 0.5\n",
        "\n",
        "\n",
        "class DayOfYear(TimeFeature):\n",
        "    \"\"\"Day of year encoded as value between [-0.5, 0.5]\"\"\"\n",
        "\n",
        "    def __call__(self, index: pd.DatetimeIndex) -> np.ndarray:\n",
        "        return (index.dayofyear - 1) / 365.0 - 0.5\n",
        "\n",
        "\n",
        "class MonthOfYear(TimeFeature):\n",
        "    \"\"\"Month of year encoded as value between [-0.5, 0.5]\"\"\"\n",
        "\n",
        "    def __call__(self, index: pd.DatetimeIndex) -> np.ndarray:\n",
        "        return (index.month - 1) / 11.0 - 0.5\n",
        "\n",
        "\n",
        "class WeekOfYear(TimeFeature):\n",
        "    \"\"\"Week of year encoded as value between [-0.5, 0.5]\"\"\"\n",
        "\n",
        "    def __call__(self, index: pd.DatetimeIndex) -> np.ndarray:\n",
        "        return (index.isocalendar().week - 1) / 52.0 - 0.5\n",
        "\n",
        "\n",
        "def time_features_from_frequency_str(freq_str: str) -> List[TimeFeature]:\n",
        "    \"\"\"\n",
        "    Returns a list of time features that will be appropriate for the given frequency string.\n",
        "    Parameters\n",
        "    ----------\n",
        "    freq_str\n",
        "        Frequency string of the form [multiple][granularity] such as \"12H\", \"5min\", \"1D\" etc.\n",
        "    \"\"\"\n",
        "\n",
        "    features_by_offsets = {\n",
        "        offsets.YearEnd: [],\n",
        "        offsets.QuarterEnd: [MonthOfYear],\n",
        "        offsets.MonthEnd: [MonthOfYear],\n",
        "        offsets.Week: [DayOfMonth, WeekOfYear],\n",
        "        offsets.Day: [DayOfWeek, DayOfMonth, DayOfYear],\n",
        "        offsets.BusinessDay: [DayOfWeek, DayOfMonth, DayOfYear],\n",
        "        offsets.Hour: [HourOfDay, DayOfWeek, DayOfMonth, DayOfYear],\n",
        "        offsets.Minute: [\n",
        "            MinuteOfHour,\n",
        "            HourOfDay,\n",
        "            DayOfWeek,\n",
        "            DayOfMonth,\n",
        "            DayOfYear,\n",
        "        ],\n",
        "        offsets.Second: [\n",
        "            SecondOfMinute,\n",
        "            MinuteOfHour,\n",
        "            HourOfDay,\n",
        "            DayOfWeek,\n",
        "            DayOfMonth,\n",
        "            DayOfYear,\n",
        "        ],\n",
        "    }\n",
        "\n",
        "    offset = to_offset(freq_str)\n",
        "\n",
        "    for offset_type, feature_classes in features_by_offsets.items():\n",
        "        if isinstance(offset, offset_type):\n",
        "            return [cls() for cls in feature_classes]\n",
        "\n",
        "    supported_freq_msg = f\"\"\"\n",
        "    Unsupported frequency {freq_str}\n",
        "    The following frequencies are supported:\n",
        "        Y   - yearly\n",
        "            alias: A\n",
        "        M   - monthly\n",
        "        W   - weekly\n",
        "        D   - daily\n",
        "        B   - business days\n",
        "        H   - hourly\n",
        "        T   - minutely\n",
        "            alias: min\n",
        "        S   - secondly\n",
        "    \"\"\"\n",
        "    raise RuntimeError(supported_freq_msg)\n",
        "\n",
        "\n",
        "def time_features(dates, freq='h'):\n",
        "    return np.vstack([feat(dates) for feat in time_features_from_frequency_str(freq)])"
      ],
      "metadata": {
        "id": "c6JBAVcFeVqL"
      },
      "execution_count": 2,
      "outputs": []
    },
    {
      "cell_type": "markdown",
      "source": [
        "## data factory"
      ],
      "metadata": {
        "id": "vok6UgRSeeJv"
      }
    },
    {
      "cell_type": "code",
      "source": [
        "import os\n",
        "import numpy as np\n",
        "import pandas as pd\n",
        "import os\n",
        "import torch\n",
        "from torch.utils.data import Dataset, DataLoader\n",
        "from sklearn.preprocessing import StandardScaler\n",
        "# from utils.timefeatures import time_features\n",
        "import warnings\n",
        "\n",
        "warnings.filterwarnings('ignore')\n",
        "\n",
        "\n",
        "class Dataset_ETT_hour(Dataset):\n",
        "    def __init__(self, root_path, flag='train', size=None,\n",
        "                 features='S', data_path='ETTh1.csv',\n",
        "                 target='OT', scale=True, timeenc=0, freq='h'):\n",
        "        # size [seq_len, label_len, pred_len]\n",
        "        # info\n",
        "        if size == None:\n",
        "            self.seq_len = 24 * 4 * 4\n",
        "            self.label_len = 24 * 4\n",
        "            self.pred_len = 24 * 4\n",
        "        else:\n",
        "            self.seq_len = size[0]\n",
        "            self.label_len = size[1]\n",
        "            self.pred_len = size[2]\n",
        "        # init\n",
        "        assert flag in ['train', 'test', 'val']\n",
        "        type_map = {'train': 0, 'val': 1, 'test': 2}\n",
        "        self.set_type = type_map[flag]\n",
        "\n",
        "        self.features = features\n",
        "        self.target = target\n",
        "        self.scale = scale\n",
        "        self.timeenc = timeenc\n",
        "        self.freq = freq\n",
        "\n",
        "        self.root_path = root_path\n",
        "        self.data_path = data_path\n",
        "        self.__read_data__()\n",
        "\n",
        "    def __read_data__(self):\n",
        "        self.scaler = StandardScaler()\n",
        "        df_raw = pd.read_csv(os.path.join(self.root_path,\n",
        "                                          self.data_path))\n",
        "\n",
        "        border1s = [0, 12 * 30 * 24 - self.seq_len, 12 * 30 * 24 + 4 * 30 * 24 - self.seq_len]\n",
        "        border2s = [12 * 30 * 24, 12 * 30 * 24 + 4 * 30 * 24, 12 * 30 * 24 + 8 * 30 * 24]\n",
        "        border1 = border1s[self.set_type]\n",
        "        border2 = border2s[self.set_type]\n",
        "\n",
        "        if self.features == 'M' or self.features == 'MS':\n",
        "            cols_data = df_raw.columns[1:]\n",
        "            df_data = df_raw[cols_data]\n",
        "        elif self.features == 'S':\n",
        "            df_data = df_raw[[self.target]]\n",
        "\n",
        "        if self.scale:\n",
        "            train_data = df_data[border1s[0]:border2s[0]]\n",
        "            self.scaler.fit(train_data.values)\n",
        "            data = self.scaler.transform(df_data.values)\n",
        "        else:\n",
        "            data = df_data.values\n",
        "\n",
        "        df_stamp = df_raw[['date']][border1:border2]\n",
        "        df_stamp['date'] = pd.to_datetime(df_stamp.date)\n",
        "        if self.timeenc == 0:\n",
        "            df_stamp['month'] = df_stamp.date.apply(lambda row: row.month, 1)\n",
        "            df_stamp['day'] = df_stamp.date.apply(lambda row: row.day, 1)\n",
        "            df_stamp['weekday'] = df_stamp.date.apply(lambda row: row.weekday(), 1)\n",
        "            df_stamp['hour'] = df_stamp.date.apply(lambda row: row.hour, 1)\n",
        "            data_stamp = df_stamp.drop(['date'], 1).values\n",
        "        elif self.timeenc == 1:\n",
        "            data_stamp = time_features(pd.to_datetime(df_stamp['date'].values), freq=self.freq)\n",
        "            data_stamp = data_stamp.transpose(1, 0)\n",
        "\n",
        "        self.data_x = data[border1:border2]\n",
        "        self.data_y = data[border1:border2]\n",
        "        self.data_stamp = data_stamp\n",
        "\n",
        "    def __getitem__(self, index):\n",
        "        s_begin = index\n",
        "        s_end = s_begin + self.seq_len\n",
        "        r_begin = s_end - self.label_len\n",
        "        r_end = r_begin + self.label_len + self.pred_len\n",
        "\n",
        "        seq_x = self.data_x[s_begin:s_end]\n",
        "        seq_y = self.data_y[r_begin:r_end]\n",
        "        seq_x_mark = self.data_stamp[s_begin:s_end]\n",
        "        seq_y_mark = self.data_stamp[r_begin:r_end]\n",
        "\n",
        "        return seq_x, seq_y, seq_x_mark, seq_y_mark\n",
        "\n",
        "    def __len__(self):\n",
        "        return len(self.data_x) - self.seq_len - self.pred_len + 1\n",
        "\n",
        "    def inverse_transform(self, data):\n",
        "        return self.scaler.inverse_transform(data)\n",
        "\n",
        "\n",
        "class Dataset_ETT_minute(Dataset):\n",
        "    def __init__(self, root_path, flag='train', size=None,\n",
        "                 features='S', data_path='ETTm1.csv',\n",
        "                 target='OT', scale=True, timeenc=0, freq='t'):\n",
        "        # size [seq_len, label_len, pred_len]\n",
        "        # info\n",
        "        if size == None:\n",
        "            self.seq_len = 24 * 4 * 4\n",
        "            self.label_len = 24 * 4\n",
        "            self.pred_len = 24 * 4\n",
        "        else:\n",
        "            self.seq_len = size[0]\n",
        "            self.label_len = size[1]\n",
        "            self.pred_len = size[2]\n",
        "        # init\n",
        "        assert flag in ['train', 'test', 'val']\n",
        "        type_map = {'train': 0, 'val': 1, 'test': 2}\n",
        "        self.set_type = type_map[flag]\n",
        "\n",
        "        self.features = features\n",
        "        self.target = target\n",
        "        self.scale = scale\n",
        "        self.timeenc = timeenc\n",
        "        self.freq = freq\n",
        "\n",
        "        self.root_path = root_path\n",
        "        self.data_path = data_path\n",
        "        self.__read_data__()\n",
        "\n",
        "    def __read_data__(self):\n",
        "        self.scaler = StandardScaler()\n",
        "        df_raw = pd.read_csv(os.path.join(self.root_path,\n",
        "                                          self.data_path))\n",
        "\n",
        "        border1s = [0, 12 * 30 * 24 * 4 - self.seq_len, 12 * 30 * 24 * 4 + 4 * 30 * 24 * 4 - self.seq_len]\n",
        "        border2s = [12 * 30 * 24 * 4, 12 * 30 * 24 * 4 + 4 * 30 * 24 * 4, 12 * 30 * 24 * 4 + 8 * 30 * 24 * 4]\n",
        "        border1 = border1s[self.set_type]\n",
        "        border2 = border2s[self.set_type]\n",
        "\n",
        "        if self.features == 'M' or self.features == 'MS':\n",
        "            cols_data = df_raw.columns[1:]\n",
        "            df_data = df_raw[cols_data]\n",
        "        elif self.features == 'S':\n",
        "            df_data = df_raw[[self.target]]\n",
        "\n",
        "        if self.scale:\n",
        "            train_data = df_data[border1s[0]:border2s[0]]\n",
        "            self.scaler.fit(train_data.values)\n",
        "            data = self.scaler.transform(df_data.values)\n",
        "        else:\n",
        "            data = df_data.values\n",
        "\n",
        "        df_stamp = df_raw[['date']][border1:border2]\n",
        "        df_stamp['date'] = pd.to_datetime(df_stamp.date)\n",
        "        if self.timeenc == 0:\n",
        "            df_stamp['month'] = df_stamp.date.apply(lambda row: row.month, 1)\n",
        "            df_stamp['day'] = df_stamp.date.apply(lambda row: row.day, 1)\n",
        "            df_stamp['weekday'] = df_stamp.date.apply(lambda row: row.weekday(), 1)\n",
        "            df_stamp['hour'] = df_stamp.date.apply(lambda row: row.hour, 1)\n",
        "            df_stamp['minute'] = df_stamp.date.apply(lambda row: row.minute, 1)\n",
        "            df_stamp['minute'] = df_stamp.minute.map(lambda x: x // 15)\n",
        "            data_stamp = df_stamp.drop(['date'], 1).values\n",
        "        elif self.timeenc == 1:\n",
        "            data_stamp = time_features(pd.to_datetime(df_stamp['date'].values), freq=self.freq)\n",
        "            data_stamp = data_stamp.transpose(1, 0)\n",
        "\n",
        "        self.data_x = data[border1:border2]\n",
        "        self.data_y = data[border1:border2]\n",
        "        self.data_stamp = data_stamp\n",
        "\n",
        "    def __getitem__(self, index):\n",
        "        s_begin = index\n",
        "        s_end = s_begin + self.seq_len\n",
        "        r_begin = s_end - self.label_len\n",
        "        r_end = r_begin + self.label_len + self.pred_len\n",
        "\n",
        "        seq_x = self.data_x[s_begin:s_end]\n",
        "        seq_y = self.data_y[r_begin:r_end]\n",
        "        seq_x_mark = self.data_stamp[s_begin:s_end]\n",
        "        seq_y_mark = self.data_stamp[r_begin:r_end]\n",
        "\n",
        "        return seq_x, seq_y, seq_x_mark, seq_y_mark\n",
        "\n",
        "    def __len__(self):\n",
        "        return len(self.data_x) - self.seq_len - self.pred_len + 1\n",
        "\n",
        "    def inverse_transform(self, data):\n",
        "        return self.scaler.inverse_transform(data)\n",
        "\n",
        "\n",
        "class Dataset_Custom(Dataset):\n",
        "    def __init__(self, root_path, flag='train', size=None,\n",
        "                 features='S', data_path='ETTh1.csv',\n",
        "                 target='OT', scale=True, timeenc=0, freq='h'):\n",
        "        # size [seq_len, label_len, pred_len]\n",
        "        # info\n",
        "        if size == None:\n",
        "            self.seq_len = 24 * 4 * 4\n",
        "            self.label_len = 24 * 4\n",
        "            self.pred_len = 24 * 4\n",
        "        else:\n",
        "            self.seq_len = size[0]\n",
        "            self.label_len = size[1]\n",
        "            self.pred_len = size[2]\n",
        "        # init\n",
        "        assert flag in ['train', 'test', 'val']\n",
        "        type_map = {'train': 0, 'val': 1, 'test': 2}\n",
        "        self.set_type = type_map[flag]\n",
        "\n",
        "        self.features = features\n",
        "        self.target = target\n",
        "        self.scale = scale\n",
        "        self.timeenc = timeenc\n",
        "        self.freq = freq\n",
        "\n",
        "        self.root_path = root_path\n",
        "        self.data_path = data_path\n",
        "        self.__read_data__()\n",
        "\n",
        "    def __read_data__(self):\n",
        "        self.scaler = StandardScaler()\n",
        "        df_raw = pd.read_csv(os.path.join(self.root_path,\n",
        "                                          self.data_path))\n",
        "\n",
        "        '''\n",
        "        df_raw.columns: ['date', ...(other features), target feature]\n",
        "        '''\n",
        "        cols = list(df_raw.columns)\n",
        "        cols.remove(self.target)\n",
        "        cols.remove('date')\n",
        "        df_raw = df_raw[['date'] + cols + [self.target]]\n",
        "        # print(cols)\n",
        "        num_train = int(len(df_raw) * 0.7)\n",
        "        num_test = int(len(df_raw) * 0.2)\n",
        "        num_vali = len(df_raw) - num_train - num_test\n",
        "        border1s = [0, num_train - self.seq_len, len(df_raw) - num_test - self.seq_len]\n",
        "        border2s = [num_train, num_train + num_vali, len(df_raw)]\n",
        "        border1 = border1s[self.set_type]\n",
        "        border2 = border2s[self.set_type]\n",
        "\n",
        "        if self.features == 'M' or self.features == 'MS':\n",
        "            cols_data = df_raw.columns[1:]\n",
        "            df_data = df_raw[cols_data]\n",
        "        elif self.features == 'S':\n",
        "            df_data = df_raw[[self.target]]\n",
        "\n",
        "        if self.scale:\n",
        "            train_data = df_data[border1s[0]:border2s[0]]\n",
        "            self.scaler.fit(train_data.values)\n",
        "            # print(self.scaler.mean_)\n",
        "            # exit()\n",
        "            data = self.scaler.transform(df_data.values)\n",
        "        else:\n",
        "            data = df_data.values\n",
        "\n",
        "        df_stamp = df_raw[['date']][border1:border2]\n",
        "        df_stamp['date'] = pd.to_datetime(df_stamp.date)\n",
        "        if self.timeenc == 0:\n",
        "            df_stamp['month'] = df_stamp.date.apply(lambda row: row.month, 1)\n",
        "            df_stamp['day'] = df_stamp.date.apply(lambda row: row.day, 1)\n",
        "            df_stamp['weekday'] = df_stamp.date.apply(lambda row: row.weekday(), 1)\n",
        "            df_stamp['hour'] = df_stamp.date.apply(lambda row: row.hour, 1)\n",
        "            data_stamp = df_stamp.drop(['date'], 1).values\n",
        "        elif self.timeenc == 1:\n",
        "            data_stamp = time_features(pd.to_datetime(df_stamp['date'].values), freq=self.freq)\n",
        "            data_stamp = data_stamp.transpose(1, 0)\n",
        "\n",
        "        self.data_x = data[border1:border2]\n",
        "        self.data_y = data[border1:border2]\n",
        "        self.data_stamp = data_stamp\n",
        "\n",
        "    def __getitem__(self, index):\n",
        "        s_begin = index\n",
        "        s_end = s_begin + self.seq_len\n",
        "        r_begin = s_end - self.label_len\n",
        "        r_end = r_begin + self.label_len + self.pred_len\n",
        "\n",
        "        seq_x = self.data_x[s_begin:s_end]\n",
        "        seq_y = self.data_y[r_begin:r_end]\n",
        "        seq_x_mark = self.data_stamp[s_begin:s_end]\n",
        "        seq_y_mark = self.data_stamp[r_begin:r_end]\n",
        "\n",
        "        return seq_x, seq_y, seq_x_mark, seq_y_mark\n",
        "\n",
        "    def __len__(self):\n",
        "        return len(self.data_x) - self.seq_len - self.pred_len + 1\n",
        "\n",
        "    def inverse_transform(self, data):\n",
        "        return self.scaler.inverse_transform(data)\n",
        "    \n",
        "\n",
        "class Dataset_Pred(Dataset):\n",
        "    def __init__(self, root_path, flag='pred', size=None,\n",
        "                 features='S', data_path='ETTh1.csv',\n",
        "                 target='OT', scale=True, inverse=False, timeenc=0, freq='15min', cols=None):\n",
        "        # size [seq_len, label_len, pred_len]\n",
        "        # info\n",
        "        if size == None:\n",
        "            self.seq_len = 24 * 4 * 4\n",
        "            self.label_len = 24 * 4\n",
        "            self.pred_len = 24 * 4\n",
        "        else:\n",
        "            self.seq_len = size[0]\n",
        "            self.label_len = size[1]\n",
        "            self.pred_len = size[2]\n",
        "        # init\n",
        "        assert flag in ['pred']\n",
        "\n",
        "        self.features = features\n",
        "        self.target = target\n",
        "        self.scale = scale\n",
        "        self.inverse = inverse\n",
        "        self.timeenc = timeenc\n",
        "        self.freq = freq\n",
        "        self.cols = cols\n",
        "        self.root_path = root_path\n",
        "        self.data_path = data_path\n",
        "        self.__read_data__()\n",
        "\n",
        "    def __read_data__(self):\n",
        "        self.scaler = StandardScaler()\n",
        "        df_raw = pd.read_csv(os.path.join(self.root_path,\n",
        "                                          self.data_path))\n",
        "        '''\n",
        "        df_raw.columns: ['date', ...(other features), target feature]\n",
        "        '''\n",
        "        if self.cols:\n",
        "            cols = self.cols.copy()\n",
        "            cols.remove(self.target)\n",
        "        else:\n",
        "            cols = list(df_raw.columns)\n",
        "            cols.remove(self.target)\n",
        "            cols.remove('date')\n",
        "        df_raw = df_raw[['date'] + cols + [self.target]]\n",
        "        border1 = len(df_raw) - self.seq_len\n",
        "        border2 = len(df_raw)\n",
        "\n",
        "        if self.features == 'M' or self.features == 'MS':\n",
        "            cols_data = df_raw.columns[1:]\n",
        "            df_data = df_raw[cols_data]\n",
        "        elif self.features == 'S':\n",
        "            df_data = df_raw[[self.target]]\n",
        "\n",
        "        if self.scale:\n",
        "            self.scaler.fit(df_data.values)\n",
        "            data = self.scaler.transform(df_data.values)\n",
        "        else:\n",
        "            data = df_data.values\n",
        "\n",
        "        tmp_stamp = df_raw[['date']][border1:border2]\n",
        "        tmp_stamp['date'] = pd.to_datetime(tmp_stamp.date)\n",
        "        pred_dates = pd.date_range(tmp_stamp.date.values[-1], periods=self.pred_len + 1, freq=self.freq)\n",
        "\n",
        "        df_stamp = pd.DataFrame(columns=['date'])\n",
        "        df_stamp.date = list(tmp_stamp.date.values) + list(pred_dates[1:])\n",
        "        if self.timeenc == 0:\n",
        "            df_stamp['month'] = df_stamp.date.apply(lambda row: row.month, 1)\n",
        "            df_stamp['day'] = df_stamp.date.apply(lambda row: row.day, 1)\n",
        "            df_stamp['weekday'] = df_stamp.date.apply(lambda row: row.weekday(), 1)\n",
        "            df_stamp['hour'] = df_stamp.date.apply(lambda row: row.hour, 1)\n",
        "            df_stamp['minute'] = df_stamp.date.apply(lambda row: row.minute, 1)\n",
        "            df_stamp['minute'] = df_stamp.minute.map(lambda x: x // 15)\n",
        "            data_stamp = df_stamp.drop(['date'], 1).values\n",
        "        elif self.timeenc == 1:\n",
        "            data_stamp = time_features(pd.to_datetime(df_stamp['date'].values), freq=self.freq)\n",
        "            data_stamp = data_stamp.transpose(1, 0)\n",
        "\n",
        "        self.data_x = data[border1:border2]\n",
        "        if self.inverse:\n",
        "            self.data_y = df_data.values[border1:border2]\n",
        "        else:\n",
        "            self.data_y = data[border1:border2]\n",
        "        self.data_stamp = data_stamp\n",
        "\n",
        "    def __getitem__(self, index):\n",
        "        s_begin = index\n",
        "        s_end = s_begin + self.seq_len\n",
        "        r_begin = s_end - self.label_len\n",
        "        r_end = r_begin + self.label_len + self.pred_len\n",
        "\n",
        "        seq_x = self.data_x[s_begin:s_end]\n",
        "        if self.inverse:\n",
        "            seq_y = self.data_x[r_begin:r_begin + self.label_len]\n",
        "        else:\n",
        "            seq_y = self.data_y[r_begin:r_begin + self.label_len]\n",
        "        seq_x_mark = self.data_stamp[s_begin:s_end]\n",
        "        seq_y_mark = self.data_stamp[r_begin:r_end]\n",
        "\n",
        "        return seq_x, seq_y, seq_x_mark, seq_y_mark\n",
        "\n",
        "    def __len__(self):\n",
        "        return len(self.data_x) - self.seq_len + 1\n",
        "\n",
        "    def inverse_transform(self, data):\n",
        "        return self.scaler.inverse_transform(data)"
      ],
      "metadata": {
        "id": "xCV1yKfXd72l"
      },
      "execution_count": 3,
      "outputs": []
    },
    {
      "cell_type": "markdown",
      "source": [
        "## data loader"
      ],
      "metadata": {
        "id": "DCTiN2prepP9"
      }
    },
    {
      "cell_type": "code",
      "source": [
        "# from data_provider.data_loader import Dataset_ETT_hour, Dataset_ETT_minute, Dataset_Custom, Dataset_Pred\n",
        "from torch.utils.data import DataLoader\n",
        "\n",
        "data_dict = {\n",
        "    'ETTh1': Dataset_ETT_hour,\n",
        "    'ETTh2': Dataset_ETT_hour,\n",
        "    'ETTm1': Dataset_ETT_minute,\n",
        "    'ETTm2': Dataset_ETT_minute,\n",
        "    'custom': Dataset_Custom,\n",
        "}\n",
        "\n",
        "\n",
        "def data_provider(args, flag):\n",
        "    Data = data_dict[args.data]\n",
        "    timeenc = 0 if args.embed != 'timeF' else 1\n",
        "\n",
        "    if flag == 'test':\n",
        "        shuffle_flag = False\n",
        "        drop_last = True\n",
        "        batch_size = args.batch_size\n",
        "        freq = args.freq\n",
        "    elif flag == 'pred':\n",
        "        shuffle_flag = False\n",
        "        drop_last = False\n",
        "        batch_size = 1\n",
        "        freq = args.freq\n",
        "        Data = Dataset_Pred\n",
        "    else:\n",
        "        shuffle_flag = True\n",
        "        drop_last = True\n",
        "        batch_size = args.batch_size\n",
        "        freq = args.freq\n",
        "\n",
        "    data_set = Data(\n",
        "        root_path=args.root_path,\n",
        "        data_path=args.data_path,\n",
        "        flag=flag,\n",
        "        size=[args.seq_len, args.label_len, args.pred_len],\n",
        "        features=args.features,\n",
        "        target=args.target,\n",
        "        timeenc=timeenc,\n",
        "        freq=freq\n",
        "    )\n",
        "    print(flag, len(data_set))\n",
        "    data_loader = DataLoader(\n",
        "        data_set,\n",
        "        batch_size=batch_size,\n",
        "        shuffle=shuffle_flag,\n",
        "        num_workers=args.num_workers,\n",
        "        drop_last=drop_last)\n",
        "    return data_set, data_loader\n"
      ],
      "metadata": {
        "id": "qBXY-Bj9bcNS"
      },
      "execution_count": 4,
      "outputs": []
    },
    {
      "cell_type": "markdown",
      "source": [
        "# Custom Data Provider"
      ],
      "metadata": {
        "id": "dI-kcV1LptWa"
      }
    },
    {
      "cell_type": "markdown",
      "source": [
        "## import module"
      ],
      "metadata": {
        "id": "YIqoF2_TqHAM"
      }
    },
    {
      "cell_type": "code",
      "source": [
        "!pip install yfinance"
      ],
      "metadata": {
        "colab": {
          "base_uri": "https://localhost:8080/",
          "height": 0
        },
        "id": "7Hn2GrduqM0Q",
        "outputId": "5541a7f1-e423-4ac7-8a58-d697e90220af"
      },
      "execution_count": 22,
      "outputs": [
        {
          "output_type": "stream",
          "name": "stdout",
          "text": [
            "Looking in indexes: https://pypi.org/simple, https://us-python.pkg.dev/colab-wheels/public/simple/\n",
            "Collecting yfinance\n",
            "  Downloading yfinance-0.2.3-py2.py3-none-any.whl (50 kB)\n",
            "\u001b[K     |████████████████████████████████| 50 kB 887 kB/s \n",
            "\u001b[?25hCollecting requests>=2.26\n",
            "  Downloading requests-2.28.1-py3-none-any.whl (62 kB)\n",
            "\u001b[K     |████████████████████████████████| 62 kB 1.1 MB/s \n",
            "\u001b[?25hCollecting cryptography>=3.3.2\n",
            "  Downloading cryptography-38.0.4-cp36-abi3-manylinux_2_24_x86_64.whl (4.0 MB)\n",
            "\u001b[K     |████████████████████████████████| 4.0 MB 5.3 MB/s \n",
            "\u001b[?25hRequirement already satisfied: pandas>=1.3.0 in /usr/local/lib/python3.8/dist-packages (from yfinance) (1.3.5)\n",
            "Requirement already satisfied: lxml>=4.9.1 in /usr/local/lib/python3.8/dist-packages (from yfinance) (4.9.2)\n",
            "Collecting frozendict>=2.3.4\n",
            "  Downloading frozendict-2.3.4-cp38-cp38-manylinux_2_17_x86_64.manylinux2014_x86_64.whl (110 kB)\n",
            "\u001b[K     |████████████████████████████████| 110 kB 58.2 MB/s \n",
            "\u001b[?25hCollecting html5lib>=1.1\n",
            "  Downloading html5lib-1.1-py2.py3-none-any.whl (112 kB)\n",
            "\u001b[K     |████████████████████████████████| 112 kB 49.0 MB/s \n",
            "\u001b[?25hRequirement already satisfied: numpy>=1.16.5 in /usr/local/lib/python3.8/dist-packages (from yfinance) (1.21.6)\n",
            "Collecting beautifulsoup4>=4.11.1\n",
            "  Downloading beautifulsoup4-4.11.1-py3-none-any.whl (128 kB)\n",
            "\u001b[K     |████████████████████████████████| 128 kB 62.3 MB/s \n",
            "\u001b[?25hRequirement already satisfied: pytz>=2022.5 in /usr/local/lib/python3.8/dist-packages (from yfinance) (2022.6)\n",
            "Requirement already satisfied: appdirs>=1.4.4 in /usr/local/lib/python3.8/dist-packages (from yfinance) (1.4.4)\n",
            "Requirement already satisfied: multitasking>=0.0.7 in /usr/local/lib/python3.8/dist-packages (from yfinance) (0.0.11)\n",
            "Collecting soupsieve>1.2\n",
            "  Downloading soupsieve-2.3.2.post1-py3-none-any.whl (37 kB)\n",
            "Requirement already satisfied: cffi>=1.12 in /usr/local/lib/python3.8/dist-packages (from cryptography>=3.3.2->yfinance) (1.15.1)\n",
            "Requirement already satisfied: pycparser in /usr/local/lib/python3.8/dist-packages (from cffi>=1.12->cryptography>=3.3.2->yfinance) (2.21)\n",
            "Requirement already satisfied: webencodings in /usr/local/lib/python3.8/dist-packages (from html5lib>=1.1->yfinance) (0.5.1)\n",
            "Requirement already satisfied: six>=1.9 in /usr/local/lib/python3.8/dist-packages (from html5lib>=1.1->yfinance) (1.15.0)\n",
            "Requirement already satisfied: python-dateutil>=2.7.3 in /usr/local/lib/python3.8/dist-packages (from pandas>=1.3.0->yfinance) (2.8.2)\n",
            "Requirement already satisfied: certifi>=2017.4.17 in /usr/local/lib/python3.8/dist-packages (from requests>=2.26->yfinance) (2022.12.7)\n",
            "Requirement already satisfied: urllib3<1.27,>=1.21.1 in /usr/local/lib/python3.8/dist-packages (from requests>=2.26->yfinance) (1.24.3)\n",
            "Requirement already satisfied: charset-normalizer<3,>=2 in /usr/local/lib/python3.8/dist-packages (from requests>=2.26->yfinance) (2.1.1)\n",
            "Requirement already satisfied: idna<4,>=2.5 in /usr/local/lib/python3.8/dist-packages (from requests>=2.26->yfinance) (2.10)\n",
            "Installing collected packages: soupsieve, requests, html5lib, frozendict, cryptography, beautifulsoup4, yfinance\n",
            "  Attempting uninstall: requests\n",
            "    Found existing installation: requests 2.23.0\n",
            "    Uninstalling requests-2.23.0:\n",
            "      Successfully uninstalled requests-2.23.0\n",
            "  Attempting uninstall: html5lib\n",
            "    Found existing installation: html5lib 1.0.1\n",
            "    Uninstalling html5lib-1.0.1:\n",
            "      Successfully uninstalled html5lib-1.0.1\n",
            "  Attempting uninstall: beautifulsoup4\n",
            "    Found existing installation: beautifulsoup4 4.6.3\n",
            "    Uninstalling beautifulsoup4-4.6.3:\n",
            "      Successfully uninstalled beautifulsoup4-4.6.3\n",
            "Successfully installed beautifulsoup4-4.11.1 cryptography-38.0.4 frozendict-2.3.4 html5lib-1.1 requests-2.28.1 soupsieve-2.3.2.post1 yfinance-0.2.3\n"
          ]
        }
      ]
    },
    {
      "cell_type": "code",
      "source": [
        "import numpy as np\n",
        "import pandas as pd\n",
        "import yfinance as yf"
      ],
      "metadata": {
        "id": "M9gQF_4oqFdt"
      },
      "execution_count": 114,
      "outputs": []
    },
    {
      "cell_type": "markdown",
      "source": [
        "## get amzn stock data"
      ],
      "metadata": {
        "id": "-Rzv0VsHrUtk"
      }
    },
    {
      "cell_type": "code",
      "source": [
        "AMZN = yf.download('IBM',\n",
        "                   start = '2001-01-01',\n",
        "                   end = '2022-12-29',\n",
        "                   progress = False)\n",
        "all_data = AMZN[['Adj Close', 'Open', 'High', 'Low', 'Close','Volume']].round(2)\n",
        "all_data.head(10)\n",
        "\n",
        "all_data['Adj Close'].plot()\n",
        "\n",
        "\n",
        "my_data = all_data[['Adj Close']]\n",
        "# print(my_data['Adj Close'].to_list())\n",
        "adj_data = my_data['Adj Close'].to_list()"
      ],
      "metadata": {
        "colab": {
          "base_uri": "https://localhost:8080/",
          "height": 269
        },
        "id": "hvZSMbEJqRcp",
        "outputId": "25ea32bd-b7ad-4f17-fad5-d533da975da3"
      },
      "execution_count": 115,
      "outputs": [
        {
          "output_type": "display_data",
          "data": {
            "text/plain": [
              "<Figure size 432x288 with 1 Axes>"
            ],
            "image/png": "[encoded data removed]"
          },
          "metadata": {
            "needs_background": "light"
          }
        }
      ]
    },
    {
      "cell_type": "markdown",
      "source": [
        "## make batch"
      ],
      "metadata": {
        "id": "ylrJpPQvsg1I"
      }
    },
    {
      "cell_type": "code",
      "source": [
        "def m_batch(win_size, data):\n",
        "  batch = []\n",
        "  for i in range((len(data)//win_size)):\n",
        "    batch.append(data[i*win_size:(i+1)*win_size])\n",
        "  return batch\n",
        "\n",
        "data = [1,2,3,4]\n",
        "win_size = 2\n",
        "\n",
        "r = m_batch(win_size, data)\n",
        "print(r)\n",
        "adj_batch = m_batch(90,adj_data)\n",
        "print(adj_batch)\n",
        "print(len(adj_batch[0]))\n",
        "\n",
        "train_data = adj_batch[:-1]\n",
        "label_data = adj_batch[1:]\n"
      ],
      "metadata": {
        "colab": {
          "base_uri": "https://localhost:8080/"
        },
        "id": "IspeiXNdsbIk",
        "outputId": "c0c606cb-8390-4608-fd89-702a481630ce"
      },
      "execution_count": 116,
      "outputs": [
        {
          "output_type": "stream",
          "name": "stdout",
          "text": [
            "[[1, 2], [3, 4]]\n",
            "[[47.05, 52.5, 51.7, 52.15, 51.91, 51.35, 51.84, 51.98, 52.05, 51.46, 53.64, 60.09, 61.72, 60.23, 60.51, 61.27, 61.44, 63.35, 63.79, 64.69, 62.14, 63.27, 61.18, 62.26, 63.35, 64.93, 63.37, 62.21, 63.82, 63.18, 63.93, 64.86, 63.87, 61.93, 59.71, 60.49, 57.76, 58.49, 56.98, 55.49, 58.9, 56.82, 58.27, 58.87, 59.74, 59.14, 55.15, 53.04, 54.65, 52.74, 53.08, 50.04, 51.43, 49.04, 49.48, 49.49, 51.94, 52.99, 55.26, 52.44, 52.79, 53.42, 52.58, 50.2, 51.1, 54.55, 54.4, 53.32, 55.01, 54.11, 53.43, 53.74, 55.38, 59.15, 63.58, 63.78, 62.21, 62.58, 63.79, 63.17, 64.54, 63.95, 65.82, 64.1, 63.15, 64.35, 64.37, 65.45, 65.05, 64.06], [62.18, 62.59, 63.16, 64.4, 63.99, 65.31, 66.2, 65.62, 65.29, 66.51, 65.51, 64.1, 62.64, 62.17, 62.78, 63.19, 65.05, 65.34, 65.2, 64.56, 65.26, 65.2, 64.81, 64.37, 63.17, 63.54, 63.86, 62.89, 62.62, 62.77, 62.64, 62.86, 63.13, 64.01, 63.12, 63.59, 62.83, 62.34, 59.22, 58.23, 56.7, 57.75, 59.64, 60.35, 59.96, 60.35, 57.99, 57.83, 58.78, 58.86, 58.12, 58.33, 58.95, 58.22, 58.86, 58.51, 59.54, 60.5, 60.16, 59.23, 59.08, 58.02, 57.95, 58.44, 58.95, 59.13, 58.47, 58.88, 58.24, 57.97, 56.73, 57.89, 57.35, 59.57, 59.5, 58.44, 57.98, 55.88, 55.65, 56.51, 55.88, 54.57, 53.78, 53.72, 51.97, 53.68, 53.46, 52.01, 50.39, 52.79], [52.59, 50.84, 50.11, 51.07, 51.62, 52.21, 53.98, 54.18, 54.58, 54.85, 54.09, 54.15, 55.35, 56.15, 56.8, 56.71, 57.3, 56.38, 57.16, 58.61, 58.92, 60.45, 61.62, 61.9, 60.48, 60.5, 60.18, 61.19, 60.97, 61.23, 63.26, 63.47, 63.45, 63.6, 64.04, 65.06, 63.75, 63.97, 63.84, 64.11, 64.36, 63.75, 64.31, 64.86, 63.67, 62.53, 63.8, 64.44, 63.63, 65.03, 67.68, 66.98, 67.12, 66.71, 67.74, 68.69, 67.04, 67.51, 67.65, 68.13, 69.07, 68.41, 68.02, 67.71, 68.24, 68.85, 68.52, 67.44, 67.74, 68.94, 70.02, 69.16, 69.52, 69.4, 68.09, 67.07, 65.81, 66.26, 65.45, 66.85, 63.7, 61.61, 60.16, 60.61, 60.93, 60.3, 57.42, 58.85, 60.15, 60.21], [59.54, 59.26, 59.53, 58.01, 58.61, 59.94, 59.49, 60.33, 60.23, 57.44, 56.55, 55.44, 53.8, 54.96, 54.88, 54.23, 54.61, 54.78, 57.51, 59.12, 58.99, 59.34, 57.9, 58.67, 58.75, 60.57, 59.83, 59.51, 59.62, 59.37, 60.01, 58.9, 59.61, 58.95, 57.81, 57.44, 57.72, 58.06, 57.42, 56.36, 55.8, 56.29, 54.29, 48.8, 48.98, 49.69, 47.0, 47.79, 47.65, 48.12, 47.35, 49.66, 49.68, 49.09, 48.75, 48.29, 48.41, 47.29, 46.83, 46.76, 47.06, 46.81, 45.65, 42.43, 42.71, 46.12, 44.71, 44.57, 45.97, 47.81, 47.26, 47.8, 47.93, 47.24, 46.68, 46.98, 47.18, 46.48, 45.91, 45.64, 46.01, 45.0, 43.69, 44.36, 45.06, 44.56, 43.8, 42.96, 42.22, 41.76], [42.29, 42.61, 43.15, 42.48, 41.03, 40.04, 38.45, 38.99, 38.37, 39.18, 40.22, 40.27, 37.81, 38.36, 39.44, 41.11, 39.88, 38.97, 38.46, 38.82, 38.71, 39.71, 38.6, 39.54, 40.3, 40.27, 38.32, 37.5, 38.9, 38.79, 37.14, 39.81, 40.16, 39.38, 38.18, 37.97, 36.91, 37.98, 38.78, 40.14, 40.27, 40.23, 40.31, 42.0, 42.88, 44.48, 46.24, 45.56, 45.41, 45.96, 45.07, 44.52, 43.7, 42.64, 42.95, 42.26, 40.56, 41.33, 40.46, 41.03, 41.76, 42.38, 41.6, 40.29, 40.64, 40.54, 40.22, 38.99, 36.33, 35.83, 35.52, 33.49, 35.32, 34.77, 33.84, 32.69, 34.29, 33.43, 33.63, 31.73, 31.87, 31.98, 30.87, 32.28, 35.83, 35.55, 38.39, 36.38, 40.47, 41.62], [42.35, 41.76, 41.82, 40.42, 41.8, 42.92, 43.02, 44.1, 44.25, 45.07, 46.25, 45.79, 45.79, 44.34, 43.58, 43.41, 44.45, 44.56, 45.33, 44.93, 44.47, 44.01, 45.83, 47.68, 47.42, 48.41, 47.77, 49.25, 48.82, 49.03, 47.86, 47.0, 46.65, 46.23, 44.7, 45.38, 45.74, 45.02, 44.93, 45.84, 45.1, 44.44, 44.18, 44.81, 45.08, 44.79, 44.09, 43.45, 42.82, 43.53, 45.25, 45.86, 46.95, 48.3, 47.28, 48.86, 49.24, 49.15, 49.75, 49.19, 48.33, 45.66, 45.23, 44.76, 45.52, 44.36, 44.04, 44.99, 45.11, 43.97, 43.92, 43.91, 43.29, 43.39, 43.62, 43.38, 43.84, 43.55, 43.05, 42.69, 43.58, 44.64, 44.74, 44.54, 44.99, 44.21, 44.49, 43.55, 43.49, 43.86], [43.51, 43.16, 43.74, 43.37, 43.83, 42.6, 42.4, 42.3, 44.14, 44.45, 46.4, 46.41, 46.14, 46.25, 47.77, 46.28, 46.96, 45.89, 45.83, 45.49, 44.13, 44.3, 45.84, 46.09, 45.46, 45.28, 45.06, 44.29, 44.46, 44.31, 45.06, 46.59, 46.64, 47.41, 46.91, 48.18, 48.25, 47.94, 47.2, 47.9, 48.2, 47.77, 48.33, 49.28, 48.69, 49.24, 48.86, 48.51, 49.36, 50.17, 50.73, 50.0, 50.68, 50.17, 48.74, 48.35, 48.58, 48.53, 48.06, 49.43, 49.37, 49.25, 49.63, 49.23, 47.25, 47.49, 46.17, 45.13, 46.23, 46.06, 47.34, 47.33, 46.65, 47.64, 47.52, 47.75, 47.66, 47.87, 46.89, 47.15, 46.5, 47.55, 47.03, 46.51, 47.12, 47.77, 47.33, 48.53, 48.62, 48.18], [47.37, 47.86, 48.15, 48.73, 48.9, 46.98, 47.2, 46.51, 46.14, 46.4, 45.95, 47.1, 46.53, 46.11, 45.64, 45.8, 45.81, 45.74, 45.01, 45.05, 45.58, 45.69, 45.77, 46.04, 45.87, 46.07, 46.2, 47.18, 46.8, 46.91, 46.8, 46.87, 46.3, 46.6, 46.32, 46.26, 46.32, 48.44, 48.77, 49.66, 49.12, 50.33, 50.51, 49.62, 49.66, 50.1, 49.99, 51.0, 51.19, 51.97, 52.69, 51.62, 51.6, 50.5, 50.51, 50.3, 50.53, 49.89, 51.04, 50.88, 51.2, 51.5, 51.8, 52.34, 52.22, 52.35, 52.65, 52.37, 52.39, 50.43, 50.4, 50.27, 50.23, 49.97, 49.79, 49.95, 50.0, 50.78, 50.47, 50.34, 50.54, 50.66, 50.35, 49.99, 50.56, 49.95, 50.9, 50.57, 51.32, 51.55], [51.07, 50.82, 50.34, 50.59, 50.02, 50.16, 50.74, 50.61, 50.88, 51.24, 51.5, 51.35, 51.1, 51.73, 51.29, 51.61, 51.29, 51.91, 52.29, 52.46, 52.12, 53.18, 52.85, 52.48, 52.71, 52.85, 52.51, 52.21, 52.57, 52.92, 52.42, 52.45, 51.81, 52.66, 52.66, 52.5, 52.65, 51.62, 51.81, 50.76, 51.11, 53.21, 53.94, 54.95, 55.29, 55.18, 55.4, 56.5, 55.91, 55.11, 55.46, 56.15, 56.24, 56.59, 56.7, 55.94, 56.08, 56.09, 56.46, 56.66, 56.28, 56.52, 56.32, 55.79, 55.43, 55.16, 54.39, 54.86, 54.72, 54.86, 54.7, 55.0, 54.88, 54.89, 54.63, 54.67, 53.61, 53.58, 52.75, 51.7, 52.88, 52.04, 52.4, 52.93, 52.63, 51.93, 51.59, 51.76, 52.02, 52.37], [52.58, 52.53, 52.33, 52.06, 52.36, 53.39, 53.38, 53.11, 52.76, 52.78, 53.13, 52.74, 53.11, 52.97, 52.31, 52.11, 51.38, 51.73, 51.43, 51.74, 51.26, 51.64, 51.25, 50.49, 49.98, 49.89, 50.45, 50.42, 50.18, 50.09, 49.34, 49.49, 49.3, 49.52, 49.08, 48.58, 48.88, 49.44, 49.65, 49.49, 49.47, 50.38, 50.18, 50.32, 50.32, 50.05, 49.97, 49.61, 49.73, 50.34, 51.14, 51.17, 51.38, 51.16, 51.42, 51.33, 51.37, 51.15, 50.83, 51.13, 51.57, 51.11, 50.86, 50.38, 50.15, 50.07, 49.7, 49.44, 48.67, 48.48, 47.51, 47.65, 47.77, 48.42, 47.78, 47.72, 47.87, 48.45, 49.05, 48.45, 48.88, 48.19, 48.33, 48.78, 48.76, 49.28, 49.45, 49.24, 48.68, 48.83], [48.38, 47.51, 47.55, 48.37, 47.63, 46.79, 47.76, 47.82, 47.83, 48.45, 48.32, 48.52, 48.18, 48.21, 48.42, 48.2, 48.34, 48.04, 48.2, 47.93, 48.13, 48.03, 48.36, 48.87, 49.2, 49.38, 49.23, 49.36, 49.16, 49.02, 48.8, 48.78, 48.79, 47.99, 47.74, 48.05, 47.9, 48.08, 48.37, 48.8, 49.36, 49.61, 49.7, 50.11, 49.76, 49.35, 49.31, 48.95, 48.37, 48.25, 48.29, 48.9, 50.87, 50.55, 50.14, 49.74, 50.33, 50.66, 51.22, 50.94, 51.08, 51.29, 51.49, 51.91, 52.58, 53.09, 53.25, 53.25, 53.38, 54.06, 54.36, 54.7, 54.11, 54.44, 54.23, 53.86, 54.24, 54.33, 54.44, 54.02, 54.46, 53.74, 54.68, 54.61, 55.36, 55.7, 54.8, 55.12, 55.61, 55.13], [55.0, 55.49, 55.5, 55.57, 54.86, 55.06, 55.33, 55.66, 55.73, 55.6, 56.06, 55.99, 56.06, 56.22, 55.74, 55.14, 55.03, 54.86, 54.62, 54.56, 54.17, 54.29, 53.86, 53.66, 54.12, 53.09, 53.03, 52.68, 52.34, 52.57, 52.44, 52.45, 52.97, 53.27, 53.52, 53.78, 53.34, 53.9, 53.91, 53.78, 52.96, 53.0, 53.31, 53.46, 53.9, 54.06, 53.56, 53.29, 52.75, 52.62, 52.93, 53.02, 52.9, 53.31, 53.09, 52.8, 52.78, 52.34, 52.64, 52.76, 52.8, 52.28, 52.51, 52.21, 51.79, 51.34, 51.01, 51.14, 51.14, 51.72, 51.82, 52.02, 51.76, 51.81, 52.21, 51.67, 51.6, 51.18, 50.85, 50.53, 50.05, 49.25, 48.99, 48.32, 47.79, 43.82, 43.79, 43.13, 41.14, 42.3], [42.4, 42.63, 43.1, 44.02, 43.37, 43.64, 43.71, 43.69, 44.04, 43.14, 43.11, 42.95, 41.99, 41.98, 41.6, 41.91, 42.59, 42.56, 43.74, 44.2, 43.77, 43.83, 43.43, 43.54, 44.19, 44.17, 43.28, 44.02, 44.31, 43.42, 42.97, 42.99, 42.85, 42.93, 42.83, 42.99, 42.9, 43.71, 44.14, 43.76, 43.85, 43.77, 44.24, 43.2, 42.4, 42.32, 43.14, 42.81, 42.51, 42.78, 42.84, 43.43, 44.33, 45.43, 45.23, 45.85, 46.66, 47.22, 47.19, 46.87, 47.95, 48.46, 48.35, 48.37, 48.24, 48.19, 48.05, 48.01, 47.81, 47.79, 47.73, 48.16, 47.62, 47.75, 47.87, 47.95, 47.1, 47.47, 47.2, 47.38, 46.69, 46.69, 46.6, 47.52, 47.43, 47.11, 46.7, 46.57, 46.16, 46.71], [46.25, 46.3, 45.68, 45.63, 46.53, 46.5, 46.4, 46.77, 46.79, 46.37, 46.22, 45.95, 46.13, 45.61, 45.19, 44.54, 44.91, 44.79, 44.45, 44.79, 45.65, 46.15, 46.07, 46.2, 46.0, 45.84, 45.77, 46.23, 46.66, 47.77, 47.2, 47.2, 47.29, 47.43, 47.94, 48.33, 47.76, 47.85, 47.93, 47.87, 47.6, 47.27, 46.76, 47.02, 46.85, 46.55, 47.59, 47.66, 48.01, 47.86, 47.68, 48.35, 48.67, 48.56, 49.23, 49.81, 50.02, 50.52, 50.25, 50.65, 51.12, 51.12, 51.29, 51.29, 51.17, 51.35, 51.03, 50.9, 51.31, 51.07, 50.37, 50.06, 49.48, 48.19, 47.85, 48.08, 47.99, 47.64, 47.48, 47.85, 47.9, 48.05, 47.77, 47.8, 47.43, 47.32, 47.24, 47.17, 47.49, 48.9], [48.2, 48.39, 48.45, 48.1, 47.87, 47.78, 48.24, 47.83, 46.83, 46.86, 46.54, 46.57, 46.46, 46.64, 46.99, 46.8, 47.17, 46.76, 46.03, 45.77, 45.96, 46.63, 46.4, 46.93, 46.42, 46.79, 46.66, 46.69, 46.58, 46.45, 46.94, 46.28, 46.22, 46.53, 46.3, 46.11, 46.13, 46.14, 46.17, 46.33, 46.82, 46.75, 47.07, 47.28, 47.83, 48.12, 47.82, 48.07, 48.23, 48.36, 48.73, 48.01, 48.1, 47.94, 47.57, 47.97, 48.01, 47.59, 47.93, 48.16, 48.57, 48.36, 47.6, 47.38, 46.83, 46.6, 47.31, 47.11, 48.08, 47.24, 47.33, 47.12, 47.38, 47.71, 48.1, 48.4, 47.52, 47.45, 47.56, 47.72, 47.57, 48.06, 48.01, 48.2, 48.01, 47.76, 47.72, 48.01, 47.58, 47.07], [46.71, 46.49, 46.34, 46.23, 46.2, 46.41, 46.77, 46.43, 46.27, 46.73, 46.05, 45.79, 46.19, 45.84, 44.61, 44.96, 44.61, 44.55, 45.01, 45.5, 45.15, 44.98, 45.17, 45.35, 44.7, 44.65, 44.68, 44.38, 44.34, 44.94, 44.49, 45.19, 45.04, 45.23, 44.26, 44.4, 44.29, 43.71, 43.0, 42.61, 42.68, 43.01, 44.06, 43.71, 43.36, 44.01, 43.95, 43.92, 44.1, 44.57, 44.83, 44.1, 44.2, 44.21, 43.96, 43.74, 43.8, 43.84, 44.04, 43.89, 44.59, 44.82, 45.99, 46.15, 46.46, 46.1, 45.91, 45.74, 46.16, 46.45, 46.7, 47.33, 47.23, 47.08, 47.34, 47.01, 46.68, 46.17, 46.9, 47.06, 47.84, 47.8, 47.95, 48.23, 47.82, 47.6, 48.51, 47.45, 47.22, 47.68], [47.97, 47.73, 47.67, 47.65, 47.6, 47.48, 48.32, 48.22, 48.34, 48.84, 48.95, 48.95, 49.25, 50.05, 50.42, 50.56, 52.23, 52.25, 52.61, 53.24, 53.2, 53.4, 53.23, 52.77, 53.2, 53.69, 53.38, 53.31, 53.15, 53.84, 53.93, 54.01, 53.91, 53.53, 53.71, 54.42, 54.32, 54.53, 54.72, 54.4, 54.3, 54.55, 54.46, 53.35, 53.29, 53.39, 53.62, 53.23, 54.55, 55.11, 54.9, 54.97, 54.75, 54.62, 54.9, 55.28, 55.63, 55.59, 55.68, 56.0, 56.0, 55.95, 55.56, 55.8, 56.7, 56.57, 56.67, 56.74, 57.35, 56.83, 57.69, 58.38, 57.69, 57.55, 57.95, 58.81, 58.35, 58.01, 56.1, 56.65, 56.63, 56.82, 56.88, 56.85, 57.48, 57.97, 57.84, 57.75, 57.85, 58.56], [58.25, 58.24, 58.29, 57.66, 57.68, 57.51, 58.04, 57.88, 57.92, 58.13, 57.98, 57.63, 57.18, 56.7, 54.98, 54.38, 53.99, 53.19, 53.72, 54.88, 54.97, 54.42, 54.58, 55.06, 54.25, 54.86, 54.68, 54.56, 54.99, 55.29, 55.8, 55.7, 55.6, 55.59, 55.43, 55.15, 55.33, 55.15, 55.71, 56.23, 56.29, 56.47, 56.53, 56.44, 55.68, 55.98, 55.54, 56.28, 56.83, 55.47, 55.17, 55.34, 55.71, 57.63, 59.37, 59.04, 59.2, 59.8, 60.37, 59.81, 60.15, 60.24, 60.36, 60.67, 61.31, 61.49, 62.25, 62.01, 61.58, 62.19, 61.86, 63.43, 62.87, 62.67, 62.02, 61.06, 61.78, 62.21, 62.81, 62.62, 62.58, 62.4, 62.17, 60.15, 59.8, 60.54, 60.63, 60.11, 60.57, 61.0], [61.73, 61.87, 62.56, 62.26, 62.62, 61.35, 61.73, 61.87, 61.93, 62.23, 61.82, 61.68, 62.6, 63.47, 64.04, 64.01, 63.81, 64.08, 64.19, 63.79, 64.41, 65.06, 65.25, 68.05, 67.44, 68.36, 68.24, 69.37, 68.45, 67.91, 67.27, 64.99, 65.81, 66.51, 65.72, 66.9, 66.69, 66.6, 65.27, 66.4, 66.44, 66.05, 65.57, 64.66, 65.37, 64.38, 64.28, 64.84, 65.7, 66.75, 66.87, 66.02, 67.53, 68.01, 68.78, 69.67, 69.49, 69.33, 68.11, 68.26, 69.17, 68.38, 68.35, 67.86, 67.51, 68.75, 68.77, 68.88, 68.84, 68.53, 68.68, 69.14, 69.39, 69.44, 70.16, 69.77, 68.61, 68.2, 68.55, 69.42, 69.73, 69.92, 69.59, 69.44, 69.57, 70.5, 68.25, 67.67, 66.18, 66.83], [67.6, 66.58, 66.5, 67.04, 67.67, 67.27, 68.45, 66.99, 67.55, 66.85, 66.71, 65.71, 62.77, 59.3, 60.01, 62.27, 61.19, 61.29, 61.99, 60.47, 61.18, 60.47, 61.55, 60.32, 61.42, 63.52, 63.59, 62.22, 62.6, 63.08, 63.98, 64.89, 64.4, 64.71, 63.29, 64.17, 63.99, 62.57, 61.84, 62.89, 63.38, 64.38, 65.69, 66.05, 65.99, 64.83, 65.12, 63.95, 61.93, 62.05, 59.82, 59.18, 57.73, 58.16, 59.11, 57.78, 60.89, 60.24, 60.12, 59.81, 61.17, 59.88, 62.76, 63.24, 61.83, 62.1, 62.76, 62.5, 63.36, 64.53, 63.85, 62.13, 61.51, 60.77, 61.32, 62.43, 63.26, 64.38, 63.02, 63.04, 62.35, 64.04, 63.5, 64.17, 65.37, 67.92, 69.16, 68.43, 67.61, 67.83], [68.71, 68.52, 66.82, 67.66, 67.7, 69.17, 69.52, 68.83, 68.43, 68.62, 70.31, 69.44, 70.27, 70.7, 70.05, 69.42, 68.6, 68.03, 68.37, 69.17, 68.18, 68.89, 68.74, 69.07, 69.04, 69.34, 70.53, 68.88, 69.64, 69.58, 71.54, 73.09, 73.87, 73.84, 73.44, 73.4, 73.75, 73.09, 72.26, 72.95, 71.67, 73.4, 73.15, 72.46, 72.93, 74.02, 74.48, 73.97, 74.67, 75.47, 76.03, 76.59, 76.21, 75.42, 74.64, 73.71, 74.35, 74.05, 75.91, 77.24, 77.34, 77.17, 75.94, 76.22, 76.05, 76.6, 74.49, 75.04, 75.09, 73.49, 73.84, 75.22, 75.55, 74.59, 74.03, 74.54, 73.18, 73.61, 73.61, 74.28, 72.22, 71.58, 70.67, 71.11, 71.01, 71.27, 72.44, 73.86, 71.79, 73.45], [72.81, 72.47, 73.46, 75.09, 75.44, 77.45, 76.71, 77.51, 77.23, 77.51, 76.64, 75.28, 76.12, 76.83, 76.31, 75.51, 76.06, 76.84, 77.31, 77.24, 77.1, 75.78, 74.95, 75.3, 75.98, 75.63, 74.58, 73.36, 73.33, 73.62, 74.78, 73.54, 73.32, 73.85, 74.57, 72.86, 70.88, 70.83, 68.84, 68.43, 70.21, 68.86, 70.65, 71.35, 71.21, 68.95, 69.46, 66.72, 68.91, 71.14, 69.56, 69.05, 69.71, 71.89, 71.48, 68.51, 70.01, 65.92, 62.69, 61.92, 60.23, 57.25, 54.2, 53.27, 52.52, 55.19, 56.03, 52.85, 54.78, 54.34, 55.37, 53.19, 50.04, 50.49, 49.12, 47.68, 52.24, 52.79, 54.28, 55.65, 55.48, 55.91, 53.84, 51.25, 51.93, 50.48, 49.8, 48.0, 50.69, 48.35], [46.64, 48.2, 45.73, 43.18, 45.07, 48.09, 48.54, 49.16, 49.12, 46.29, 48.06, 48.56, 46.61, 48.51, 51.08, 49.77, 49.87, 48.5, 49.48, 49.82, 52.01, 51.67, 50.56, 50.27, 49.35, 48.51, 48.47, 48.95, 48.91, 50.29, 50.66, 52.59, 52.26, 53.71, 52.84, 52.47, 50.98, 51.59, 51.37, 50.07, 50.63, 51.11, 49.34, 55.03, 54.21, 53.87, 55.14, 55.17, 57.07, 55.68, 55.17, 54.73, 56.27, 55.88, 55.62, 58.18, 58.59, 56.45, 57.59, 57.54, 56.79, 54.87, 55.38, 53.82, 53.73, 51.06, 52.29, 51.99, 53.84, 55.7, 53.89, 53.12, 54.16, 52.94, 51.93, 50.52, 52.8, 53.63, 54.71, 54.68, 55.21, 56.23, 55.65, 56.08, 55.99, 59.74, 59.49, 59.28, 59.78, 56.98], [57.2, 58.64, 59.07, 61.01, 61.86, 61.46, 59.76, 61.24, 61.55, 60.49, 60.08, 59.82, 61.38, 61.29, 60.78, 61.92, 62.06, 61.38, 60.57, 60.49, 61.69, 62.96, 62.46, 63.31, 64.26, 64.06, 63.65, 62.41, 61.74, 62.6, 63.23, 62.21, 61.47, 61.67, 63.62, 64.19, 63.3, 62.55, 61.98, 63.89, 62.62, 63.69, 64.66, 65.93, 64.99, 64.78, 64.69, 65.24, 65.39, 65.79, 65.91, 66.55, 65.83, 65.47, 65.29, 65.09, 64.69, 64.42, 63.58, 63.54, 63.36, 64.52, 64.29, 64.38, 63.52, 63.78, 61.89, 61.84, 60.95, 61.25, 62.1, 61.34, 63.04, 62.81, 65.23, 67.31, 70.22, 70.84, 71.2, 70.31, 71.21, 71.57, 71.56, 71.35, 71.33, 71.7, 71.74, 72.95, 72.76, 72.07], [71.74, 72.93, 72.55, 71.99, 72.91, 73.09, 72.47, 71.42, 71.89, 72.47, 72.7, 73.28, 72.93, 72.63, 73.02, 72.99, 72.25, 72.15, 71.32, 70.95, 71.1, 71.79, 71.61, 71.36, 71.92, 72.15, 72.66, 72.94, 74.45, 74.49, 74.63, 74.3, 74.33, 73.84, 73.92, 74.0, 72.93, 72.61, 73.1, 72.06, 72.74, 73.19, 74.17, 75.04, 74.74, 76.97, 77.64, 77.63, 78.45, 78.22, 74.34, 75.21, 75.07, 73.87, 74.99, 73.56, 73.41, 73.74, 74.26, 75.1, 73.71, 73.68, 74.05, 74.13, 75.24, 75.81, 77.35, 77.91, 78.09, 77.51, 77.99, 78.71, 78.97, 78.67, 78.3, 77.94, 78.71, 78.54, 78.14, 77.17, 77.57, 78.55, 78.1, 78.31, 78.12, 77.99, 77.85, 78.82, 79.41, 79.61], [79.77, 78.88, 79.02, 78.21, 78.53, 78.98, 79.77, 79.81, 80.16, 81.23, 80.95, 81.39, 80.36, 81.31, 80.33, 79.81, 79.53, 80.33, 79.49, 80.12, 79.95, 81.23, 80.9, 82.35, 79.96, 79.2, 77.05, 77.43, 77.2, 77.56, 75.97, 75.14, 76.54, 77.07, 77.15, 75.51, 75.83, 75.16, 75.98, 75.73, 76.3, 76.47, 77.23, 77.9, 78.82, 78.43, 78.23, 77.98, 78.68, 78.36, 78.42, 79.29, 78.58, 78.24, 78.14, 78.47, 77.95, 77.42, 77.47, 78.69, 78.9, 78.83, 79.35, 78.79, 79.17, 78.76, 78.92, 79.78, 79.26, 79.7, 79.71, 79.3, 79.41, 79.09, 79.09, 79.77, 79.51, 79.23, 78.69, 79.4, 79.16, 79.57, 80.94, 80.72, 80.56, 81.54, 79.98, 79.54, 79.63, 80.16], [80.62, 79.44, 80.23, 80.45, 79.55, 79.92, 79.01, 78.6, 76.81, 75.68, 78.27, 78.65, 82.24, 81.5, 81.32, 80.85, 80.55, 79.87, 76.74, 77.74, 77.14, 77.18, 76.38, 78.34, 77.64, 77.07, 78.97, 79.31, 77.65, 76.94, 76.69, 76.8, 79.14, 79.62, 79.65, 80.45, 80.8, 81.19, 80.67, 80.98, 80.14, 80.65, 79.46, 78.79, 79.95, 77.54, 76.54, 75.97, 75.53, 76.52, 78.72, 79.32, 79.31, 79.75, 80.88, 81.02, 81.02, 79.36, 80.45, 78.44, 77.65, 79.01, 79.57, 79.59, 79.73, 79.61, 79.35, 79.59, 81.05, 80.81, 81.37, 81.71, 81.06, 82.22, 82.12, 80.87, 79.92, 79.65, 79.59, 80.01, 80.6, 80.29, 79.42, 78.78, 77.8, 78.03, 76.48, 77.7, 76.87, 76.7], [78.34, 77.89, 79.47, 78.46, 78.54, 78.71, 79.73, 80.73, 80.26, 80.62, 80.77, 81.1, 82.09, 82.21, 82.58, 82.02, 83.54, 83.87, 84.02, 84.39, 83.56, 84.49, 84.25, 85.75, 85.86, 86.41, 86.49, 87.0, 87.11, 87.44, 88.14, 87.87, 88.97, 85.98, 86.63, 87.1, 87.0, 87.11, 87.62, 88.1, 87.77, 89.45, 89.27, 89.6, 89.8, 91.44, 91.52, 91.64, 91.44, 91.69, 90.99, 89.93, 89.87, 89.0, 88.81, 90.32, 90.75, 90.97, 89.58, 91.23, 90.03, 89.4, 88.51, 90.35, 90.84, 90.96, 90.72, 90.11, 90.71, 90.28, 90.61, 90.27, 91.24, 90.55, 90.44, 90.72, 90.42, 91.19, 91.32, 91.28, 90.94, 91.17, 91.67, 91.77, 91.82, 92.27, 92.37, 92.01, 93.01, 92.56], [92.37, 92.15, 93.29, 93.11, 93.85, 94.26, 97.41, 97.48, 97.29, 99.88, 101.01, 100.76, 100.78, 99.61, 101.36, 102.34, 102.17, 102.32, 102.61, 103.12, 104.3, 103.43, 103.07, 102.92, 102.53, 102.29, 102.64, 103.17, 103.54, 101.73, 100.62, 100.99, 101.94, 101.69, 100.49, 100.6, 102.69, 101.65, 100.46, 101.94, 104.19, 101.77, 102.03, 101.38, 99.89, 96.11, 96.85, 97.92, 99.05, 99.25, 100.21, 100.53, 101.87, 101.36, 102.31, 102.77, 102.43, 103.19, 103.17, 103.01, 103.04, 103.26, 103.05, 102.99, 102.55, 102.99, 103.63, 104.4, 104.24, 103.9, 103.49, 105.71, 105.32, 105.84, 107.02, 107.28, 107.15, 108.14, 108.59, 107.18, 105.82, 106.56, 106.7, 107.5, 106.95, 108.68, 107.21, 106.54, 107.58, 107.54], [107.64, 107.36, 106.17, 105.99, 105.84, 105.48, 105.69, 106.59, 105.09, 104.8, 104.14, 103.95, 103.28, 103.69, 104.01, 102.96, 102.95, 103.55, 102.42, 102.64, 103.76, 104.12, 104.88, 104.54, 104.82, 104.15, 105.76, 107.27, 107.6, 108.24, 110.13, 110.69, 112.13, 111.35, 111.36, 110.41, 109.82, 109.99, 109.93, 110.76, 110.59, 116.86, 115.88, 116.66, 116.84, 115.91, 115.42, 114.42, 114.71, 114.74, 114.05, 112.34, 112.83, 108.2, 109.14, 105.33, 108.12, 103.0, 105.66, 106.59, 109.63, 108.52, 108.67, 103.82, 99.83, 100.75, 104.13, 105.68, 104.93, 107.19, 109.39, 109.32, 108.94, 107.94, 105.82, 104.63, 106.03, 104.72, 102.26, 102.93, 103.57, 105.98, 107.79, 109.63, 109.71, 110.72, 109.64, 106.86, 107.31, 110.59], [112.62, 112.51, 113.54, 110.82, 109.82, 110.73, 112.07, 115.14, 115.58, 118.26, 117.24, 117.95, 118.39, 120.74, 118.24, 113.37, 112.41, 112.32, 115.1, 115.49, 114.3, 115.32, 117.79, 118.79, 117.0, 114.92, 116.55, 118.69, 118.11, 118.71, 119.14, 115.95, 116.66, 119.22, 119.2, 120.09, 118.74, 118.17, 117.86, 115.47, 115.36, 113.22, 112.66, 115.93, 115.12, 119.62, 120.54, 120.67, 121.42, 122.76, 123.47, 121.89, 123.79, 122.28, 121.62, 120.07, 119.29, 116.8, 116.36, 119.13, 115.46, 115.82, 117.55, 117.68, 117.06, 118.46, 116.99, 118.53, 118.05, 117.49, 116.14, 115.54, 115.36, 116.0, 114.88, 113.99, 114.53, 115.21, 114.86, 119.95, 120.88, 122.12, 121.99, 121.51, 121.18, 122.48, 122.54, 122.56, 121.86, 123.2], [122.68, 123.02, 123.24, 123.36, 122.91, 123.03, 122.78, 122.8, 123.29, 123.54, 123.52, 123.83, 126.22, 126.32, 126.17, 126.46, 125.66, 126.17, 126.99, 128.17, 126.0, 126.32, 127.63, 128.14, 128.39, 130.16, 130.76, 131.58, 131.59, 131.4, 130.46, 130.74, 131.25, 131.25, 132.71, 132.33, 132.4, 133.03, 133.27, 133.8, 133.81, 131.61, 131.24, 130.9, 129.23, 129.39, 131.14, 129.54, 129.48, 132.51, 127.83, 127.43, 127.49, 126.87, 127.75, 130.03, 131.31, 132.1, 132.27, 132.86, 132.89, 132.37, 130.93, 130.14, 129.23, 129.07, 128.67, 129.03, 127.92, 127.67, 128.11, 126.93, 125.64, 126.85, 126.24, 125.79, 125.77, 124.63, 126.01, 124.77, 123.73, 121.28, 120.93, 121.35, 124.43, 124.72, 125.16, 123.48, 124.79, 123.86], [125.14, 127.7, 127.18, 127.6, 127.5, 124.04, 124.24, 123.7, 123.12, 123.79, 122.77, 125.45, 125.61, 125.67, 125.26, 122.77, 121.66, 119.47, 118.82, 117.44, 119.31, 118.53, 117.79, 120.75, 125.29, 123.44, 122.4, 122.09, 122.56, 124.4, 125.97, 126.15, 125.7, 125.19, 124.72, 127.33, 127.49, 128.24, 128.2, 127.81, 128.37, 128.19, 127.73, 127.8, 129.37, 129.62, 129.15, 127.96, 127.06, 126.06, 127.39, 126.05, 125.52, 125.66, 124.56, 125.51, 125.31, 125.63, 128.25, 128.51, 129.44, 130.94, 131.26, 132.93, 133.22, 133.44, 133.38, 132.97, 132.81, 132.68, 132.24, 132.04, 131.41, 132.64, 133.63, 135.57, 135.17, 135.6, 135.52, 135.65, 135.16, 133.98, 132.58, 132.54, 133.85, 134.58, 135.92, 129.24, 125.58, 124.55], [125.22, 123.19, 122.85, 123.42, 124.49, 125.31, 126.99, 124.6, 125.05, 125.65, 123.67, 122.99, 122.69, 122.44, 121.84, 120.02, 120.24, 120.94, 123.15, 122.41, 123.11, 125.18, 124.79, 123.72, 124.2, 123.91, 122.97, 122.59, 122.51, 122.05, 122.73, 124.19, 124.62, 125.64, 124.83, 124.21, 124.06, 125.27, 126.6, 126.21, 126.01, 125.14, 124.48, 124.19, 124.68, 122.81, 123.93, 127.03, 126.33, 125.5, 124.96, 124.78, 124.42, 124.79, 125.8, 124.62, 124.54, 124.6, 125.29, 125.82, 126.86, 132.45, 132.25, 132.61, 132.58, 131.92, 131.67, 131.38, 132.74, 131.85, 131.2, 130.6, 129.77, 131.03, 130.04, 129.96, 130.0, 129.71, 130.57, 130.15, 129.49, 128.85, 130.65, 128.32, 129.38, 131.45, 130.48, 131.83, 133.31, 134.18], [135.38, 136.06, 136.68, 136.49, 136.79, 137.77, 140.2, 139.63, 138.52, 138.67, 139.72, 137.9, 137.79, 136.92, 137.97, 137.01, 138.58, 137.98, 139.27, 138.16, 137.29, 136.05, 135.99, 135.93, 137.73, 138.33, 137.33, 135.95, 137.73, 136.22, 134.58, 123.44, 122.03, 124.49, 124.55, 126.01, 126.24, 129.39, 131.59, 129.7, 131.49, 132.87, 131.74, 132.3, 133.69, 132.66, 133.46, 132.16, 132.64, 132.71, 133.61, 136.06, 135.51, 136.19, 135.11, 134.57, 134.28, 135.63, 135.72, 136.66, 135.78, 136.39, 134.59, 132.34, 133.03, 134.69, 133.82, 133.14, 131.33, 133.01, 131.98, 132.53, 133.73, 131.81, 128.82, 127.58, 126.33, 127.27, 127.19, 127.71, 124.74, 124.86, 125.0, 126.14, 127.24, 127.27, 124.87, 125.49, 125.85, 125.37], [126.63, 126.53, 126.99, 129.23, 126.33, 126.69, 127.27, 128.33, 128.73, 128.82, 128.07, 127.94, 127.31, 127.81, 127.39, 127.61, 124.67, 123.69, 123.28, 123.21, 124.04, 123.6, 123.02, 121.88, 121.58, 120.85, 121.07, 121.27, 121.48, 121.64, 121.19, 119.88, 119.5, 119.81, 119.57, 120.68, 120.13, 120.8, 120.07, 121.35, 122.41, 125.1, 125.12, 126.06, 126.71, 126.06, 127.54, 126.86, 124.65, 125.29, 124.62, 124.29, 124.78, 122.62, 121.48, 122.26, 121.33, 120.61, 120.77, 119.4, 117.24, 118.95, 121.21, 122.12, 122.65, 121.14, 122.49, 114.69, 114.0, 113.4, 114.78, 115.3, 116.64, 116.01, 116.34, 119.47, 118.18, 117.56, 117.57, 118.26, 116.67, 118.18, 118.71, 118.71, 120.61, 120.74, 121.06, 120.17, 120.82, 121.66], [122.18, 122.14, 121.44, 119.57, 118.01, 116.94, 118.03, 118.5, 117.05, 116.13, 115.9, 116.13, 117.18, 117.04, 116.81, 115.55, 114.34, 113.97, 117.3, 115.92, 117.86, 118.86, 118.73, 120.18, 120.84, 122.24, 122.06, 122.94, 123.71, 122.36, 123.09, 122.67, 125.12, 123.97, 123.58, 123.5, 121.46, 122.62, 123.82, 124.49, 125.37, 124.27, 120.2, 120.51, 118.48, 117.33, 116.64, 116.34, 116.97, 116.52, 114.03, 113.99, 114.91, 115.83, 117.54, 117.47, 119.17, 119.52, 120.58, 121.81, 121.48, 121.32, 122.19, 121.21, 121.65, 121.51, 122.06, 122.86, 122.79, 122.19, 123.64, 124.1, 124.43, 124.46, 123.6, 123.85, 123.49, 121.95, 120.83, 123.22, 123.88, 122.49, 124.6, 123.79, 124.84, 129.34, 127.73, 125.88, 126.29, 127.65], [128.98, 128.35, 127.78, 127.17, 128.99, 128.18, 130.4, 129.76, 129.44, 131.15, 130.65, 130.24, 126.0, 127.5, 127.42, 127.14, 126.14, 125.75, 128.08, 129.38, 130.29, 128.34, 126.95, 126.83, 126.02, 126.26, 126.0, 126.78, 128.44, 128.19, 125.88, 124.37, 124.77, 124.73, 123.32, 124.32, 123.85, 124.02, 123.25, 122.11, 122.57, 122.97, 123.85, 122.97, 123.07, 124.05, 124.31, 124.21, 122.92, 121.56, 120.87, 121.77, 121.63, 121.57, 122.46, 121.94, 121.09, 121.49, 120.65, 120.54, 120.31, 121.2, 120.91, 124.29, 125.66, 125.75, 125.42, 124.88, 125.68, 125.2, 125.4, 126.64, 125.72, 128.3, 128.39, 128.4, 127.3, 129.46, 129.15, 130.22, 129.66, 130.58, 129.78, 129.4, 127.84, 126.16, 126.49, 124.8, 124.78, 123.65], [125.22, 125.78, 125.69, 126.1, 126.06, 125.72, 127.05, 127.53, 127.55, 128.3, 127.75, 128.26, 129.49, 128.99, 128.82, 129.02, 128.53, 128.79, 127.94, 128.28, 127.57, 127.47, 128.51, 128.63, 128.34, 128.69, 129.46, 129.36, 129.99, 130.16, 129.57, 128.57, 129.03, 126.81, 127.52, 127.24, 127.36, 125.58, 125.41, 126.59, 126.83, 124.6, 127.05, 125.08, 124.75, 123.13, 123.32, 121.94, 120.66, 122.14, 113.46, 109.52, 108.55, 108.81, 108.75, 108.61, 109.77, 109.67, 110.27, 110.3, 110.28, 109.13, 108.57, 109.07, 109.48, 110.44, 110.31, 109.38, 109.97, 110.9, 110.9, 109.36, 109.05, 108.52, 108.71, 109.54, 109.27, 109.4, 109.55, 109.13, 109.89, 111.14, 110.82, 110.29, 109.34, 110.11, 108.43, 108.81, 104.96, 103.4], [102.28, 102.63, 106.52, 107.08, 109.06, 109.6, 109.31, 109.67, 108.43, 108.12, 108.38, 109.48, 107.75, 105.43, 104.74, 107.02, 107.48, 105.68, 105.93, 105.25, 104.42, 106.15, 106.03, 102.74, 104.97, 105.3, 105.63, 103.81, 102.38, 105.03, 103.57, 104.48, 107.05, 106.03, 106.67, 106.61, 105.95, 107.86, 107.62, 107.84, 109.12, 109.5, 110.33, 111.49, 111.33, 110.82, 112.13, 110.76, 109.44, 110.16, 109.17, 109.54, 108.45, 109.65, 107.82, 109.37, 107.35, 106.67, 107.47, 104.95, 106.86, 106.78, 108.71, 108.71, 110.8, 111.99, 110.88, 108.3, 109.24, 109.12, 110.66, 109.18, 108.29, 109.15, 110.23, 110.25, 110.1, 110.44, 110.79, 110.46, 110.41, 111.65, 110.97, 109.3, 113.03, 111.74, 112.49, 115.81, 115.5, 116.14], [118.31, 118.64, 116.52, 118.14, 118.35, 117.74, 116.56, 117.2, 118.36, 117.29, 116.9, 118.08, 119.3, 118.76, 118.62, 118.91, 119.1, 118.81, 118.04, 116.61, 117.89, 117.69, 116.28, 116.64, 116.28, 116.47, 115.41, 114.74, 113.33, 113.56, 115.78, 115.69, 114.46, 113.96, 114.36, 114.58, 115.32, 114.46, 114.97, 115.58, 114.44, 113.83, 113.41, 111.7, 111.49, 112.74, 113.16, 112.91, 113.09, 111.83, 112.31, 114.43, 116.1, 115.57, 115.51, 117.21, 118.24, 118.73, 111.77, 109.91, 110.85, 109.5, 109.03, 109.7, 110.41, 110.33, 111.03, 108.78, 108.02, 108.23, 108.03, 107.21, 108.33, 107.47, 107.92, 107.17, 107.64, 108.03, 107.82, 106.39, 105.5, 102.87, 99.15, 97.42, 101.39, 102.66, 102.27, 102.21, 98.61, 100.25], [101.44, 99.31, 101.75, 100.25, 101.04, 101.85, 100.66, 101.96, 102.57, 102.38, 99.87, 101.23, 99.82, 99.28, 99.8, 100.5, 98.5, 98.46, 100.19, 99.24, 99.92, 103.0, 102.82, 103.73, 105.24, 105.32, 104.45, 103.4, 103.67, 103.73, 103.94, 103.13, 97.2, 97.39, 99.58, 99.99, 99.28, 95.28, 97.33, 97.14, 96.81, 97.01, 98.05, 97.88, 96.68, 96.44, 94.39, 94.5, 94.19, 92.81, 91.91, 93.28, 93.35, 94.75, 95.39, 96.62, 96.59, 96.69, 96.27, 96.59, 97.26, 98.56, 97.45, 96.91, 97.96, 97.35, 96.3, 95.3, 95.42, 93.88, 94.82, 96.12, 97.17, 95.4, 94.11, 94.52, 96.22, 96.64, 96.44, 96.0, 97.51, 97.2, 96.0, 94.84, 94.77, 94.29, 92.68, 91.82, 92.94, 92.71], [91.5, 92.72, 90.71, 89.37, 85.01, 85.74, 85.46, 85.16, 85.52, 84.38, 85.26, 87.05, 87.08, 85.76, 87.0, 89.05, 89.69, 89.49, 87.43, 84.7, 83.05, 85.3, 86.5, 88.87, 93.34, 93.78, 94.27, 93.3, 93.59, 94.78, 93.04, 92.34, 94.69, 96.05, 97.11, 97.11, 98.77, 98.01, 98.95, 98.79, 100.32, 100.62, 100.75, 102.04, 103.62, 103.66, 104.74, 104.37, 102.47, 104.26, 104.58, 105.24, 104.59, 106.73, 107.48, 107.17, 105.71, 105.72, 104.47, 105.25, 105.18, 105.45, 106.57, 106.53, 106.92, 107.49, 101.48, 102.97, 105.21, 104.65, 104.87, 105.06, 106.04, 103.64, 102.85, 102.37, 101.57, 101.66, 103.22, 104.8, 104.84, 106.71, 105.98, 105.9, 105.11, 106.34, 105.3, 104.84, 103.12, 104.77], [104.43, 105.53, 107.93, 108.46, 108.75, 109.39, 108.51, 109.22, 108.78, 108.67, 109.1, 109.57, 109.16, 108.41, 107.64, 107.48, 107.21, 107.48, 108.14, 109.3, 109.61, 108.81, 110.53, 104.3, 102.1, 103.67, 105.63, 107.99, 108.4, 107.92, 108.41, 108.58, 109.9, 110.52, 111.74, 112.43, 114.04, 113.69, 113.74, 113.54, 114.81, 114.16, 115.32, 115.73, 115.35, 115.15, 114.82, 114.28, 114.87, 114.26, 114.32, 114.95, 116.33, 116.29, 116.1, 116.32, 117.36, 116.23, 116.18, 115.33, 115.14, 115.8, 114.86, 114.83, 115.01, 114.14, 113.84, 113.62, 114.63, 114.4, 114.02, 114.5, 114.5, 115.08, 116.0, 114.11, 111.73, 113.6, 111.82, 110.56, 111.71, 110.41, 111.14, 110.84, 111.62, 112.03, 111.22, 110.51, 112.51, 113.6], [113.47, 114.0, 113.11, 112.29, 112.73, 112.59, 111.72, 112.69, 111.09, 110.73, 110.32, 110.84, 111.07, 108.17, 108.55, 108.74, 107.38, 108.06, 108.28, 108.95, 110.05, 109.52, 110.3, 109.65, 109.05, 109.35, 109.39, 111.75, 112.37, 112.11, 116.03, 116.79, 114.57, 114.9, 115.35, 115.72, 116.15, 117.87, 117.8, 117.3, 118.14, 119.14, 118.42, 117.48, 115.74, 115.88, 115.75, 116.12, 119.34, 119.75, 120.59, 119.85, 121.87, 122.03, 121.68, 120.74, 120.71, 121.37, 121.18, 120.98, 120.73, 121.04, 120.35, 120.65, 120.21, 121.07, 122.57, 122.17, 122.77, 121.41, 119.87, 121.48, 121.63, 121.18, 121.58, 120.79, 120.8, 123.51, 123.86, 127.38, 129.11, 129.38, 128.4, 127.31, 126.38, 126.22, 126.43, 127.32, 127.35, 129.24], [128.59, 129.35, 130.42, 130.92, 131.48, 132.61, 132.43, 131.87, 131.57, 132.22, 132.59, 132.37, 130.94, 131.25, 132.81, 131.77, 131.42, 131.73, 131.66, 130.98, 129.32, 129.8, 128.8, 128.26, 128.32, 129.37, 128.21, 128.24, 126.92, 127.57, 127.6, 126.88, 126.84, 127.38, 126.96, 126.9, 127.11, 127.37, 127.38, 126.19, 125.87, 125.65, 124.96, 124.51, 124.57, 123.74, 124.89, 124.12, 118.02, 118.46, 117.06, 117.33, 117.07, 116.83, 117.02, 117.0, 115.94, 116.13, 115.78, 116.09, 113.17, 112.79, 112.11, 111.48, 111.03, 110.83, 111.67, 113.27, 111.24, 111.13, 112.01, 112.5, 112.05, 112.4, 112.91, 112.39, 111.83, 112.49, 112.52, 112.07, 112.33, 112.3, 111.28, 112.1, 113.58, 114.37, 113.69, 113.36, 113.67, 114.52], [114.12, 114.2, 113.35, 113.8, 113.58, 114.41, 114.06, 114.48, 113.6, 113.38, 114.67, 113.26, 112.29, 112.72, 113.08, 112.91, 113.28, 113.23, 113.68, 112.77, 113.5, 108.73, 108.83, 108.4, 107.6, 107.75, 107.14, 106.92, 106.35, 106.63, 107.09, 106.46, 106.83, 106.99, 105.74, 105.85, 105.59, 105.65, 105.65, 106.0, 105.82, 106.14, 104.8, 104.05, 104.52, 105.03, 105.87, 106.46, 107.06, 106.14, 106.61, 106.18, 106.53, 107.31, 106.54, 107.12, 106.43, 106.1, 107.89, 108.56, 108.74, 108.4, 107.86, 107.66, 107.54, 108.65, 108.19, 108.1, 108.65, 109.16, 108.49, 108.49, 108.06, 109.24, 109.32, 109.1, 109.28, 109.1, 109.78, 110.61, 109.95, 109.51, 109.56, 109.36, 109.15, 118.82, 119.84, 120.71, 118.84, 116.1], [114.33, 114.4, 114.46, 114.97, 114.75, 114.72, 114.22, 112.9, 112.35, 112.73, 112.89, 113.07, 112.21, 111.64, 112.0, 110.66, 112.18, 112.06, 113.22, 114.31, 114.17, 114.22, 114.33, 114.7, 115.51, 115.83, 116.42, 117.7, 116.86, 115.92, 115.53, 116.46, 116.91, 117.91, 115.78, 115.85, 114.72, 115.34, 115.27, 115.06, 113.97, 114.72, 114.97, 115.19, 115.88, 115.41, 116.04, 119.23, 121.64, 122.24, 122.97, 123.24, 123.51, 123.52, 122.72, 123.26, 126.87, 127.22, 122.15, 122.32, 125.06, 124.4, 124.48, 125.88, 125.48, 123.09, 123.15, 122.17, 119.63, 114.74, 116.86, 115.74, 112.12, 113.58, 115.01, 114.52, 117.57, 118.52, 118.65, 117.87, 116.96, 116.37, 118.14, 120.47, 118.93, 118.38, 116.84, 117.36, 119.23, 118.3], [120.27, 118.67, 121.02, 121.74, 121.03, 120.12, 121.25, 121.74, 119.53, 118.66, 119.03, 115.54, 113.11, 116.51, 115.4, 115.86, 116.56, 114.0, 113.84, 117.08, 117.01, 114.38, 115.99, 118.05, 118.02, 120.08, 119.05, 119.94, 122.24, 113.03, 112.2, 110.08, 110.81, 110.58, 110.87, 111.46, 111.28, 110.12, 110.15, 108.22, 107.87, 109.32, 108.8, 108.63, 109.54, 110.79, 110.71, 110.84, 110.41, 111.09, 110.99, 110.67, 111.75, 111.44, 111.12, 110.66, 110.33, 108.47, 109.55, 108.54, 109.03, 109.87, 110.38, 111.15, 111.65, 112.25, 112.59, 112.81, 112.41, 111.53, 111.67, 110.98, 110.53, 109.55, 108.49, 108.52, 106.61, 106.83, 105.6, 107.57, 107.3, 107.43, 107.2, 108.63, 109.44, 110.91, 111.15, 111.33, 112.49, 112.07], [111.73, 110.22, 111.01, 114.63, 112.41, 111.91, 112.44, 112.62, 112.69, 111.49, 111.75, 111.32, 110.22, 109.81, 113.45, 112.17, 112.92, 112.83, 112.4, 112.17, 110.8, 111.3, 111.73, 112.84, 113.4, 113.75, 113.33, 112.76, 112.87, 113.39, 113.89, 113.81, 114.55, 113.3, 113.73, 113.11, 113.87, 113.66, 112.93, 113.08, 113.74, 113.8, 115.65, 115.16, 114.86, 115.34, 115.73, 117.35, 117.51, 116.48, 115.61, 117.71, 117.62, 117.4, 118.79, 119.37, 118.96, 117.48, 115.71, 115.21, 114.32, 110.78, 107.94, 109.36, 109.57, 112.67, 104.08, 101.36, 100.23, 100.95, 101.87, 98.77, 98.18, 96.89, 92.89, 89.6, 89.62, 90.71, 89.81, 93.21, 95.59, 96.93, 97.01, 97.14, 95.06, 95.02, 94.51, 95.49, 95.59, 94.6], [92.15, 93.23, 92.15, 94.01, 94.38, 96.71, 95.52, 97.71, 98.53, 95.61, 97.43, 93.84, 95.24, 95.05, 95.27, 94.93, 94.28, 91.29, 91.72, 91.55, 88.87, 87.23, 84.58, 87.58, 89.46, 88.87, 89.38, 90.59, 88.78, 92.25, 92.9, 94.22, 94.9, 95.76, 95.5, 94.66, 95.72, 95.63, 96.08, 97.36, 96.34, 104.49, 104.21, 105.34, 105.58, 105.62, 105.66, 105.69, 105.44, 106.3, 106.58, 107.19, 105.95, 106.36, 106.58, 108.22, 109.39, 108.56, 109.8, 110.33, 109.77, 109.65, 110.77, 110.93, 111.14, 110.7, 109.88, 110.73, 110.11, 109.68, 108.96, 107.67, 107.46, 109.54, 110.0, 110.22, 110.4, 110.91, 111.53, 111.75, 111.05, 112.51, 110.93, 110.71, 111.54, 110.76, 111.3, 112.24, 113.99, 113.75], [114.25, 113.57, 113.97, 114.06, 113.04, 113.77, 114.37, 114.82, 114.47, 115.45, 110.66, 111.63, 110.48, 111.71, 111.32, 110.27, 110.92, 110.61, 111.58, 111.81, 111.04, 111.56, 111.67, 109.49, 109.77, 108.94, 108.92, 105.78, 107.3, 108.18, 109.37, 108.11, 108.76, 109.83, 109.75, 106.56, 106.47, 105.01, 104.39, 104.29, 102.21, 103.24, 106.8, 105.84, 106.42, 107.3, 108.45, 109.43, 108.56, 109.27, 108.78, 108.62, 109.77, 110.34, 111.76, 112.04, 112.16, 111.37, 111.49, 111.49, 111.0, 112.59, 112.86, 113.93, 113.8, 113.14, 112.15, 113.06, 113.68, 114.89, 115.36, 115.53, 115.16, 120.44, 120.48, 120.53, 121.04, 120.76, 121.05, 121.83, 121.44, 120.55, 119.32, 120.99, 118.52, 113.3, 113.27, 111.97, 114.1, 110.86], [108.86, 110.59, 106.89, 107.43, 108.93, 109.97, 108.31, 109.33, 109.39, 105.52, 105.86, 106.82, 108.12, 109.84, 110.37, 109.21, 111.02, 114.8, 114.48, 116.13, 118.13, 116.95, 116.96, 117.0, 116.03, 115.81, 115.82, 116.43, 115.54, 115.7, 115.38, 116.59, 116.9, 116.65, 118.43, 116.99, 115.39, 115.66, 116.45, 115.06, 112.69, 113.75, 114.93, 116.26, 115.68, 116.46, 115.73, 109.34, 109.2, 107.97, 109.09, 109.44, 109.18, 110.3, 110.73, 108.98, 110.15, 108.91, 110.37, 112.12, 112.3, 113.02, 113.46, 113.39, 111.63, 111.73, 110.81, 110.42, 110.75, 110.67, 110.84, 109.76, 110.28, 110.7, 112.04, 111.31, 110.23, 110.79, 109.52, 108.87, 108.76, 108.69, 109.77, 110.35, 110.34, 110.22, 111.5, 110.59, 110.52, 110.6], [110.75, 110.88, 111.73, 111.69, 111.22, 111.17, 111.46, 109.44, 110.45, 111.59, 110.7, 110.5, 110.57, 111.5, 112.67, 112.63, 112.56, 111.92, 112.58, 113.7, 113.97, 114.68, 118.57, 117.73, 115.82, 114.22, 114.99, 113.46, 112.7, 118.43, 120.53, 122.87, 128.82, 129.17, 127.73, 128.58, 127.79, 129.31, 128.48, 125.47, 125.81, 125.61, 125.91, 124.76, 121.92, 117.99, 116.36, 110.83, 108.36, 111.82, 107.32, 111.75, 107.86, 106.35, 98.09, 103.88, 98.22, 85.6, 89.88, 82.49, 88.8, 86.22, 83.54, 79.42, 78.91, 87.82, 88.13, 93.99, 89.95, 94.03, 92.36, 87.54, 91.59, 88.54, 95.6, 95.7, 99.32, 101.16, 100.87, 103.17, 98.82, 96.36, 100.01, 100.25, 97.22, 99.34, 101.04, 103.84, 104.84, 105.13], [107.15, 104.54, 101.47, 101.31, 102.06, 102.55, 102.29, 103.78, 103.44, 101.47, 97.65, 98.68, 98.7, 102.57, 101.5, 102.42, 100.51, 99.89, 102.74, 105.93, 105.08, 105.39, 105.38, 106.32, 108.89, 108.75, 111.43, 114.54, 111.27, 109.58, 99.57, 102.86, 102.65, 105.6, 104.75, 104.76, 103.34, 102.16, 100.76, 98.23, 100.43, 98.88, 101.04, 101.9, 100.02, 101.0, 101.41, 99.21, 99.32, 97.63, 99.86, 100.58, 101.76, 103.78, 104.64, 105.56, 106.63, 106.37, 108.57, 107.44, 106.14, 106.49, 105.02, 105.74, 103.7, 103.73, 104.89, 106.18, 105.85, 106.42, 106.82, 108.66, 108.35, 108.31, 106.88, 107.08, 106.37, 106.78, 105.86, 105.27, 105.28, 107.43, 106.54, 106.14, 106.55, 106.91, 105.41, 105.48, 109.57, 106.38], [104.54, 103.61, 104.51, 103.06, 103.83, 104.37, 104.66, 106.19, 106.78, 104.94, 102.79, 103.01, 101.58, 100.95, 101.68, 104.06, 103.38, 104.01, 103.51, 103.07, 104.3, 104.26, 106.06, 112.4, 109.24, 108.74, 106.94, 107.66, 106.76, 107.65, 107.3, 100.33, 98.36, 98.95, 99.16, 95.93, 94.51, 91.17, 93.1, 95.45, 96.52, 97.59, 95.65, 98.11, 97.48, 100.19, 102.25, 101.64, 99.3, 101.33, 102.64, 102.07, 101.26, 101.62, 101.41, 104.14, 107.9, 107.71, 107.84, 107.12, 106.81, 108.07, 107.2, 110.31, 108.14, 109.02, 109.95, 108.37, 107.77, 107.13, 109.21, 108.88, 108.88, 109.14, 107.01, 107.2, 107.45, 108.13, 108.25, 107.36, 107.83, 109.17, 107.48, 109.39, 112.12, 111.86, 111.46, 111.51, 112.05, 110.07], [111.84, 111.34, 111.89, 112.81, 114.17, 102.86, 102.83, 106.23, 106.21, 104.14, 103.29, 104.53, 103.58, 103.3, 104.95, 105.62, 107.2, 107.3, 107.43, 106.26, 106.16, 105.52, 105.43, 106.1, 104.57, 106.21, 106.08, 108.28, 107.63, 104.52, 106.11, 105.75, 107.53, 105.55, 107.94, 109.68, 109.13, 112.37, 111.73, 112.14, 113.0, 112.7, 113.39, 114.3, 113.28, 114.73, 114.65, 114.79, 116.94, 119.85, 119.39, 118.39, 117.11, 117.08, 119.46, 117.95, 118.58, 118.74, 119.28, 118.28, 115.28, 116.56, 116.51, 117.4, 116.99, 121.42, 126.15, 124.16, 125.17, 124.41, 124.8, 125.67, 126.76, 124.68, 127.21, 128.09, 127.62, 130.43, 129.26, 129.89, 128.16, 125.56, 128.11, 128.57, 128.95, 127.88, 127.24, 127.86, 128.62, 128.6], [127.78, 127.41, 127.8, 127.73, 128.13, 129.49, 129.34, 131.0, 131.53, 132.47, 133.89, 133.77, 134.43, 133.32, 132.72, 131.37, 129.38, 127.18, 130.32, 130.06, 128.5, 129.24, 130.49, 129.11, 129.34, 130.26, 130.49, 124.43, 123.32, 124.25, 125.07, 125.76, 125.22, 124.66, 124.25, 124.81, 123.43, 122.56, 124.38, 125.56, 125.04, 125.6, 126.87, 126.85, 125.98, 126.12, 125.26, 125.67, 128.02, 126.86, 126.87, 128.04, 126.96, 127.08, 127.75, 128.6, 128.7, 129.07, 128.01, 125.36, 124.06, 125.04, 125.5, 125.7, 125.71, 124.74, 125.31, 124.91, 126.15, 125.21, 125.85, 125.46, 124.1, 124.64, 123.81, 123.16, 124.18, 122.44, 123.32, 122.63, 121.55, 120.73, 119.52, 121.01, 122.9, 123.58, 124.55, 123.57, 125.1, 124.88], [128.82, 129.53, 128.67, 127.96, 127.47, 128.73, 128.02, 126.26, 126.52, 128.89, 129.98, 127.93, 127.62, 127.55, 115.35, 114.95, 114.73, 114.27, 112.51, 113.11, 112.45, 113.51, 113.42, 114.27, 113.62, 116.22, 117.09, 115.14, 114.54, 114.59, 113.34, 113.25, 112.86, 112.48, 111.15, 110.57, 110.97, 111.27, 111.21, 110.34, 112.9, 111.57, 111.4, 111.38, 113.22, 114.24, 115.84, 117.21, 117.73, 118.23, 116.79, 117.91, 117.29, 119.98, 121.38, 121.06, 122.88, 123.62, 124.46, 125.4, 126.36, 127.05, 127.58, 127.34, 129.61, 131.5, 131.69, 128.95, 128.46, 128.65, 126.59, 127.28, 128.39, 127.87, 126.66, 125.36, 124.64, 123.24, 122.73, 129.67, 127.92, 126.26, 128.14, 127.26, 129.13, 130.76, 131.27, 130.67, 130.76, 130.55], [131.28, 128.74, 127.94, 125.49, 125.29, 124.56, 120.5, 119.9, 119.49, 117.7, 117.61, 119.74, 118.13, 117.01, 119.43, 121.42, 122.09, 121.56, 121.18, 121.7, 119.9, 119.53, 119.51, 121.15, 122.5, 123.38, 124.15, 123.52, 124.44, 123.71, 124.63, 126.65, 126.77, 127.22, 127.4, 125.37, 125.49, 125.61, 124.28, 124.76, 123.95, 123.16, 121.85, 121.47, 121.63, 122.03, 121.66, 124.53, 133.37, 134.85, 133.3, 134.12, 131.32, 130.23, 130.88, 127.48, 128.28, 127.78, 132.48, 131.06, 132.74, 131.2, 126.02, 127.6, 129.7, 130.38, 131.78, 135.04, 129.74, 126.54, 125.39, 128.01, 130.58, 131.15, 133.59, 135.92, 135.5, 136.07, 136.78, 137.78, 139.44, 139.34, 137.44, 134.64, 132.91, 131.86, 132.45, 133.76, 132.4, 131.77], [134.53, 133.78, 135.11, 138.64, 139.36, 138.44, 137.32, 137.79, 137.72, 134.31, 134.76, 137.44, 137.09, 137.6, 135.83, 133.88, 135.71, 136.55, 134.8, 127.73, 126.07, 124.09, 125.16, 125.44, 125.0, 126.01, 126.11, 127.64, 128.86, 128.64, 129.15, 128.47, 129.29, 129.42, 127.94, 129.95, 130.98, 132.43, 133.34, 134.95, 136.17, 137.43, 136.74, 133.95, 133.15, 131.66, 132.4, 128.84, 128.77, 128.05, 126.94, 128.13, 126.28, 125.23, 126.21, 126.96, 127.67, 129.12, 125.75, 126.19, 124.01, 125.77, 126.23, 124.81, 123.46, 123.83, 121.26, 120.57, 120.31, 121.31, 120.2, 117.41, 120.08, 124.02, 124.26, 120.79, 117.42, 116.36, 116.41, 116.18, 120.36, 118.63, 120.09, 121.49, 121.07, 126.79, 128.37, 131.13, 131.36, 133.42]]\n",
            "90\n"
          ]
        }
      ]
    },
    {
      "cell_type": "markdown",
      "source": [
        "# Model"
      ],
      "metadata": {
        "id": "JjnWWgR2fnZ1"
      }
    },
    {
      "cell_type": "markdown",
      "source": [
        "## DLinear"
      ],
      "metadata": {
        "id": "gezVANWofrmJ"
      }
    },
    {
      "cell_type": "code",
      "source": [
        "import torch\n",
        "import torch.nn as nn\n",
        "import torch.nn.functional as F\n",
        "import numpy as np\n",
        "\n",
        "class moving_avg(nn.Module):\n",
        "    \"\"\"\n",
        "    Moving average block to highlight the trend of time series\n",
        "    \"\"\"\n",
        "    def __init__(self, kernel_size, stride):\n",
        "        super(moving_avg, self).__init__()\n",
        "        self.kernel_size = kernel_size\n",
        "        self.avg = nn.AvgPool1d(kernel_size=kernel_size, stride=stride, padding=0)\n",
        "\n",
        "    def forward(self, x):\n",
        "        # padding on the both ends of time series\n",
        "        front = x[:, 0:1, :].repeat(1, (self.kernel_size - 1) // 2, 1)\n",
        "        end = x[:, -1:, :].repeat(1, (self.kernel_size - 1) // 2, 1)\n",
        "        x = torch.cat([front, x, end], dim=1)\n",
        "        x = self.avg(x.permute(0, 2, 1))\n",
        "        x = x.permute(0, 2, 1)\n",
        "        return x\n",
        "\n",
        "\n",
        "class series_decomp(nn.Module):\n",
        "    \"\"\"\n",
        "    Series decomposition block\n",
        "    \"\"\"\n",
        "    def __init__(self, kernel_size):\n",
        "        super(series_decomp, self).__init__()\n",
        "        self.moving_avg = moving_avg(kernel_size, stride=1)\n",
        "\n",
        "    def forward(self, x):\n",
        "        moving_mean = self.moving_avg(x)\n",
        "        res = x - moving_mean\n",
        "        return res, moving_mean\n",
        "\n",
        "class Model(nn.Module):\n",
        "    \"\"\"\n",
        "    Decomposition-Linear\n",
        "    \"\"\"\n",
        "    # 하이퍼 파라미터\n",
        "    # seq_len : 인풋 시퀀스의 길이\n",
        "    # pred_len: 결과 시퀀스의 길이\n",
        "    # individual: 통합 레이어 / 독립 레이어 여부(0 or 1)\n",
        "    # channels: 인풋 시퀀스의 채널 수 \n",
        "    \n",
        "    def __init__(self, configs):\n",
        "        super(Model, self).__init__()\n",
        "        self.seq_len = configs.seq_len\n",
        "        self.pred_len = configs.pred_len\n",
        "\n",
        "        # Decompsition Kernel Size\n",
        "        kernel_size = 25\n",
        "        self.decompsition = series_decomp(kernel_size)\n",
        "        self.individual = configs.individual\n",
        "        self.channels = configs.enc_in\n",
        "\n",
        "        # individual 의 의미: 채널들간에 통일된 주기성이 있다면 같은 레이어를 공유 / 아니라면 채널별로 다른 레이어를 부여\n",
        "        # individual: 0(DLinear - S) 1(DLinear - l)\n",
        "\n",
        "        if self.individual:\n",
        "            self.Linear_Seasonal = nn.ModuleList()\n",
        "            self.Linear_Trend = nn.ModuleList()\n",
        "            \n",
        "            for i in range(self.channels):\n",
        "                self.Linear_Seasonal.append(nn.Linear(self.seq_len,self.pred_len))\n",
        "                self.Linear_Trend.append(nn.Linear(self.seq_len,self.pred_len))\n",
        "\n",
        "                # Use this two lines if you want to visualize the weights\n",
        "                # self.Linear_Seasonal[i].weight = nn.Parameter((1/self.seq_len)*torch.ones([self.pred_len,self.seq_len]))\n",
        "                # self.Linear_Trend[i].weight = nn.Parameter((1/self.seq_len)*torch.ones([self.pred_len,self.seq_len]))\n",
        "        else:\n",
        "            self.Linear_Seasonal = nn.Linear(self.seq_len,self.pred_len)\n",
        "            self.Linear_Trend = nn.Linear(self.seq_len,self.pred_len)\n",
        "            \n",
        "            # Use this two lines if you want to visualize the weights\n",
        "            # self.Linear_Seasonal.weight = nn.Parameter((1/self.seq_len)*torch.ones([self.pred_len,self.seq_len]))\n",
        "            # self.Linear_Trend.weight = nn.Parameter((1/self.seq_len)*torch.ones([self.pred_len,self.seq_len]))\n",
        "\n",
        "    def forward(self, x):\n",
        "        # x: [Batch, Input length, Channel]\n",
        "        seasonal_init, trend_init = self.decompsition(x)\n",
        "        seasonal_init, trend_init = seasonal_init.permute(0,2,1), trend_init.permute(0,2,1)\n",
        "        \n",
        "        if self.individual:\n",
        "            seasonal_output = torch.zeros([seasonal_init.size(0),seasonal_init.size(1),self.pred_len],dtype=seasonal_init.dtype).to(seasonal_init.device)\n",
        "            trend_output = torch.zeros([trend_init.size(0),trend_init.size(1),self.pred_len],dtype=trend_init.dtype).to(trend_init.device)\n",
        "            for i in range(self.channels):\n",
        "                seasonal_output[:,i,:] = self.Linear_Seasonal[i](seasonal_init[:,i,:])\n",
        "                trend_output[:,i,:] = self.Linear_Trend[i](trend_init[:,i,:])\n",
        "        else:\n",
        "            seasonal_output = self.Linear_Seasonal(seasonal_init)\n",
        "            trend_output = self.Linear_Trend(trend_init)\n",
        "\n",
        "        x = seasonal_output + trend_output\n",
        "        return x.permute(0,2,1) # to [Batch, Output length, Channel]"
      ],
      "metadata": {
        "id": "zAM3VXLEfomF"
      },
      "execution_count": 135,
      "outputs": []
    },
    {
      "cell_type": "markdown",
      "source": [
        "## set hyper parameter(create model)"
      ],
      "metadata": {
        "id": "U3Jg6AwShijB"
      }
    },
    {
      "cell_type": "code",
      "source": [
        "class config():\n",
        "  def __init__(self, seq_len, pred_len,individual, enc_in):\n",
        "    self.seq_len = seq_len\n",
        "    self.pred_len = pred_len\n",
        "    self.individual = individual\n",
        "    self.enc_in = enc_in\n",
        "\n",
        "new_config = config(2,2,0,3)\n",
        "new_model = Model(new_config)"
      ],
      "metadata": {
        "id": "6FEp4YTOhhHE"
      },
      "execution_count": 136,
      "outputs": []
    },
    {
      "cell_type": "markdown",
      "source": [
        "## test data"
      ],
      "metadata": {
        "id": "mNSRoUZjmvxJ"
      }
    },
    {
      "cell_type": "code",
      "source": [
        "# [Batch, Input length, Channel]\n",
        "\n",
        "test_data = [[[1,2,3],[4,5,6]]]\n",
        "\n",
        "test = torch.FloatTensor(test_data)\n",
        "\n",
        "print(test.shape)\n",
        "\n",
        "output = new_model(test)\n",
        "\n",
        "print(output)"
      ],
      "metadata": {
        "colab": {
          "base_uri": "https://localhost:8080/",
          "height": 0
        },
        "id": "XWDc0DtOmu5n",
        "outputId": "c4485cb7-e65c-4dd6-f334-8507c3a451a1"
      },
      "execution_count": 20,
      "outputs": [
        {
          "output_type": "stream",
          "name": "stdout",
          "text": [
            "torch.Size([1, 2, 3])\n",
            "tensor([[[-3.6460, -4.4089, -5.1719],\n",
            "         [-1.8361, -2.4823, -3.1285]]], grad_fn=<PermuteBackward0>)\n"
          ]
        }
      ]
    },
    {
      "cell_type": "code",
      "source": [
        "test_data = torch.FloatTensor([adj_batch])\n",
        "print(test_data.shape)\n",
        "test_data =  test_data.permute(1,2,0)\n",
        "print(test_data.shape)\n",
        "test_config = config(90,90,0,1)\n",
        "test_model = Model(test_config)\n",
        "\n",
        "test_out = test_model(test_data)\n",
        "print(test_out)"
      ],
      "metadata": {
        "id": "BpxGsVcQwXih"
      },
      "execution_count": null,
      "outputs": []
    },
    {
      "cell_type": "markdown",
      "source": [
        "## train "
      ],
      "metadata": {
        "id": "D7Ev1YbKz5WM"
      }
    },
    {
      "cell_type": "markdown",
      "source": [
        "### create model"
      ],
      "metadata": {
        "id": "4lkO5I6U1hY8"
      }
    },
    {
      "cell_type": "code",
      "source": [
        "main_config = config(90,90,0,1)\n",
        "main_model = Model(main_config)"
      ],
      "metadata": {
        "id": "NKIVccdb1ipp"
      },
      "execution_count": 142,
      "outputs": []
    },
    {
      "cell_type": "markdown",
      "source": [
        "### load data"
      ],
      "metadata": {
        "id": "rhWvhF8s0MJ1"
      }
    },
    {
      "cell_type": "code",
      "source": [
        "train = torch.FloatTensor([train_data]).permute(1,2,0)\n",
        "label = torch.FloatTensor([label_data]).permute(1,2,0)\n",
        "\n",
        "x_t = train[:40,:,:]\n",
        "y_t = label[:40,:,:]\n",
        "x_p = train[40:,:,:]\n",
        "y_p = label[40:,:,:]\n",
        "print(x_t.shape)\n",
        "print(x_p.shape)\n",
        "\n",
        "from torch.utils.data import Dataset, DataLoader\n",
        "\n"
      ],
      "metadata": {
        "colab": {
          "base_uri": "https://localhost:8080/"
        },
        "id": "8TfY0iDU0La5",
        "outputId": "0c962a7b-0ef5-4835-941b-5ea9f1548d60"
      },
      "execution_count": 143,
      "outputs": [
        {
          "output_type": "stream",
          "name": "stdout",
          "text": [
            "torch.Size([40, 90, 1])\n",
            "torch.Size([20, 90, 1])\n"
          ]
        }
      ]
    },
    {
      "cell_type": "markdown",
      "source": [
        "### set loss function"
      ],
      "metadata": {
        "id": "PVMeyhd91Io8"
      }
    },
    {
      "cell_type": "code",
      "source": [
        "loss_function = nn.MSELoss()"
      ],
      "metadata": {
        "id": "cyb9vsGd1MYU"
      },
      "execution_count": 144,
      "outputs": []
    },
    {
      "cell_type": "markdown",
      "source": [
        "### set optimizer"
      ],
      "metadata": {
        "id": "2VRJIGas1cvO"
      }
    },
    {
      "cell_type": "code",
      "source": [
        "import torch.optim as optim\n",
        "\n",
        "optimizer = optim.Adam(params=main_model.parameters())"
      ],
      "metadata": {
        "id": "ifxFzsJs1d0n"
      },
      "execution_count": 145,
      "outputs": []
    },
    {
      "cell_type": "markdown",
      "source": [
        "### main"
      ],
      "metadata": {
        "id": "gMOEc5iw1P0L"
      }
    },
    {
      "cell_type": "code",
      "source": [
        "import matplotlib.pyplot as plt\n",
        "\n",
        "epoch = 200\n",
        "train_loss = []\n",
        "test_loss = []\n",
        "for step in range(epoch):\n",
        "  # 경사 초기화\n",
        "  optimizer.zero_grad()\n",
        "  # 순방향 전파\n",
        "  output = main_model(x_t)\n",
        "\n",
        "  # 손실값 계산\n",
        "  loss = loss_function(output, y_t)\n",
        "  train_loss.append(loss.item())\n",
        "  # 역방향 전파\n",
        "  loss.backward()\n",
        "  # 매개변수 업데이트\n",
        "  optimizer.step()\n",
        "\n",
        "  p_out = main_model(x_p)\n",
        "  p_loss = loss_function(p_out, y_p)\n",
        "  test_loss.append(p_loss.item())\n",
        "  # 기록\n",
        "  if step % 50 == 0:\n",
        "    print(\"[{:02d}/{:02d}] {:.4f} \".format(step+1, epoch, loss))\n",
        "    print(f\"valid loss: {p_loss}\")\n",
        "\n",
        "\n",
        "plt.plot(np.array(train_loss), c='blue', label=\"Train-set Loss\")\n",
        "plt.plot(np.array(test_loss), c='red', label=\"Validation-set Loss\")\n",
        "\n",
        "plt.show()\n"
      ],
      "metadata": {
        "colab": {
          "base_uri": "https://localhost:8080/",
          "height": 415
        },
        "id": "WBJ9gYuq1Vhn",
        "outputId": "70858202-b29b-4fbd-a365-f4e9f5d1d7c1"
      },
      "execution_count": 146,
      "outputs": [
        {
          "output_type": "stream",
          "name": "stdout",
          "text": [
            "[01/200] 9237.5430 \n",
            "valid loss: 14696.6982421875\n",
            "[51/200] 83.1284 \n",
            "valid loss: 141.11473083496094\n",
            "[101/200] 54.7952 \n",
            "valid loss: 103.31324768066406\n",
            "[151/200] 48.7421 \n",
            "valid loss: 100.84091186523438\n"
          ]
        },
        {
          "output_type": "display_data",
          "data": {
            "text/plain": [
              "<Figure size 432x288 with 1 Axes>"
            ],
            "image/png": "[encoded data removed]"
          },
          "metadata": {
            "needs_background": "light"
          }
        }
      ]
    },
    {
      "cell_type": "markdown",
      "source": [
        "## predict future price"
      ],
      "metadata": {
        "id": "UXmUUbP1_D5G"
      }
    },
    {
      "cell_type": "code",
      "source": [
        "future_90 = main_model(y_p[-1,:,:].view(1,90,1))\n",
        "plt.plot(future_90.view(-1).detach().numpy())\n",
        "plt.show()"
      ],
      "metadata": {
        "colab": {
          "base_uri": "https://localhost:8080/",
          "height": 265
        },
        "id": "650eoxF5_HG_",
        "outputId": "e623ef12-6e3a-49ee-cdec-341051ed8c36"
      },
      "execution_count": 157,
      "outputs": [
        {
          "output_type": "display_data",
          "data": {
            "text/plain": [
              "<Figure size 432x288 with 1 Axes>"
            ],
            "image/png": "[encoded data removed]"
          },
          "metadata": {
            "needs_background": "light"
          }
        }
      ]
    }
  ]
}